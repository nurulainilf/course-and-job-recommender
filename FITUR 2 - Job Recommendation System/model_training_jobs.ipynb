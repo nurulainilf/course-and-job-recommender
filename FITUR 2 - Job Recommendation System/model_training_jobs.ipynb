{
  "cells": [
    {
      "cell_type": "markdown",
      "id": "686ee5cb",
      "metadata": {
        "id": "686ee5cb"
      },
      "source": [
        "# STEP 0: Persiapan Environment\n",
        "Instalasi dan import pustaka yang diperlukan untuk preprocessing teks."
      ]
    },
    {
      "cell_type": "code",
      "execution_count": 1,
      "id": "9876ba38",
      "metadata": {
        "colab": {
          "base_uri": "https://localhost:8080/"
        },
        "id": "9876ba38",
        "outputId": "9d2eb58c-ff7c-4fce-a2bd-da32e305c6ff"
      },
      "outputs": [
        {
          "name": "stdout",
          "output_type": "stream",
          "text": [
            "Found existing installation: nltk 3.9.1\n",
            "Uninstalling nltk-3.9.1:\n",
            "  Successfully uninstalled nltk-3.9.1\n",
            "Found existing installation: Sastrawi 1.0.1\n",
            "Uninstalling Sastrawi-1.0.1:\n",
            "  Successfully uninstalled Sastrawi-1.0.1\n",
            "Collecting nltk\n",
            "  Using cached nltk-3.9.1-py3-none-any.whl.metadata (2.9 kB)\n",
            "Collecting Sastrawi\n",
            "  Using cached Sastrawi-1.0.1-py2.py3-none-any.whl.metadata (909 bytes)\n",
            "Requirement already satisfied: swifter in c:\\users\\nurul\\appdata\\local\\packages\\pythonsoftwarefoundation.python.3.11_qbz5n2kfra8p0\\localcache\\local-packages\\python311\\site-packages (1.4.0)\n",
            "Requirement already satisfied: tqdm in c:\\users\\nurul\\appdata\\local\\packages\\pythonsoftwarefoundation.python.3.11_qbz5n2kfra8p0\\localcache\\local-packages\\python311\\site-packages (4.67.1)\n",
            "Requirement already satisfied: click in c:\\users\\nurul\\appdata\\local\\packages\\pythonsoftwarefoundation.python.3.11_qbz5n2kfra8p0\\localcache\\local-packages\\python311\\site-packages (from nltk) (8.2.1)\n",
            "Requirement already satisfied: joblib in c:\\users\\nurul\\appdata\\local\\packages\\pythonsoftwarefoundation.python.3.11_qbz5n2kfra8p0\\localcache\\local-packages\\python311\\site-packages (from nltk) (1.5.1)\n",
            "Requirement already satisfied: regex>=2021.8.3 in c:\\users\\nurul\\appdata\\local\\packages\\pythonsoftwarefoundation.python.3.11_qbz5n2kfra8p0\\localcache\\local-packages\\python311\\site-packages (from nltk) (2024.11.6)\n",
            "Requirement already satisfied: pandas>=1.0.0 in c:\\users\\nurul\\appdata\\local\\packages\\pythonsoftwarefoundation.python.3.11_qbz5n2kfra8p0\\localcache\\local-packages\\python311\\site-packages (from swifter) (2.3.1)\n",
            "Requirement already satisfied: psutil>=5.6.6 in c:\\users\\nurul\\appdata\\local\\packages\\pythonsoftwarefoundation.python.3.11_qbz5n2kfra8p0\\localcache\\local-packages\\python311\\site-packages (from swifter) (7.0.0)\n",
            "Requirement already satisfied: dask>=2.10.0 in c:\\users\\nurul\\appdata\\local\\packages\\pythonsoftwarefoundation.python.3.11_qbz5n2kfra8p0\\localcache\\local-packages\\python311\\site-packages (from dask[dataframe]>=2.10.0->swifter) (2025.7.0)\n",
            "Requirement already satisfied: colorama in c:\\users\\nurul\\appdata\\local\\packages\\pythonsoftwarefoundation.python.3.11_qbz5n2kfra8p0\\localcache\\local-packages\\python311\\site-packages (from tqdm) (0.4.6)\n",
            "Requirement already satisfied: cloudpickle>=3.0.0 in c:\\users\\nurul\\appdata\\local\\packages\\pythonsoftwarefoundation.python.3.11_qbz5n2kfra8p0\\localcache\\local-packages\\python311\\site-packages (from dask>=2.10.0->dask[dataframe]>=2.10.0->swifter) (3.1.1)\n",
            "Requirement already satisfied: fsspec>=2021.09.0 in c:\\users\\nurul\\appdata\\local\\packages\\pythonsoftwarefoundation.python.3.11_qbz5n2kfra8p0\\localcache\\local-packages\\python311\\site-packages (from dask>=2.10.0->dask[dataframe]>=2.10.0->swifter) (2025.7.0)\n",
            "Requirement already satisfied: packaging>=20.0 in c:\\users\\nurul\\appdata\\local\\packages\\pythonsoftwarefoundation.python.3.11_qbz5n2kfra8p0\\localcache\\local-packages\\python311\\site-packages (from dask>=2.10.0->dask[dataframe]>=2.10.0->swifter) (25.0)\n",
            "Requirement already satisfied: partd>=1.4.0 in c:\\users\\nurul\\appdata\\local\\packages\\pythonsoftwarefoundation.python.3.11_qbz5n2kfra8p0\\localcache\\local-packages\\python311\\site-packages (from dask>=2.10.0->dask[dataframe]>=2.10.0->swifter) (1.4.2)\n",
            "Requirement already satisfied: pyyaml>=5.3.1 in c:\\users\\nurul\\appdata\\local\\packages\\pythonsoftwarefoundation.python.3.11_qbz5n2kfra8p0\\localcache\\local-packages\\python311\\site-packages (from dask>=2.10.0->dask[dataframe]>=2.10.0->swifter) (6.0.2)\n",
            "Requirement already satisfied: toolz>=0.10.0 in c:\\users\\nurul\\appdata\\local\\packages\\pythonsoftwarefoundation.python.3.11_qbz5n2kfra8p0\\localcache\\local-packages\\python311\\site-packages (from dask>=2.10.0->dask[dataframe]>=2.10.0->swifter) (1.0.0)\n",
            "Requirement already satisfied: importlib_metadata>=4.13.0 in c:\\users\\nurul\\appdata\\local\\packages\\pythonsoftwarefoundation.python.3.11_qbz5n2kfra8p0\\localcache\\local-packages\\python311\\site-packages (from dask>=2.10.0->dask[dataframe]>=2.10.0->swifter) (8.7.0)\n",
            "Requirement already satisfied: pyarrow>=14.0.1 in c:\\users\\nurul\\appdata\\local\\packages\\pythonsoftwarefoundation.python.3.11_qbz5n2kfra8p0\\localcache\\local-packages\\python311\\site-packages (from dask[dataframe]>=2.10.0->swifter) (20.0.0)\n",
            "Requirement already satisfied: numpy>=1.23.2 in c:\\users\\nurul\\appdata\\local\\packages\\pythonsoftwarefoundation.python.3.11_qbz5n2kfra8p0\\localcache\\local-packages\\python311\\site-packages (from pandas>=1.0.0->swifter) (2.2.6)\n",
            "Requirement already satisfied: python-dateutil>=2.8.2 in c:\\users\\nurul\\appdata\\local\\packages\\pythonsoftwarefoundation.python.3.11_qbz5n2kfra8p0\\localcache\\local-packages\\python311\\site-packages (from pandas>=1.0.0->swifter) (2.9.0.post0)\n",
            "Requirement already satisfied: pytz>=2020.1 in c:\\users\\nurul\\appdata\\local\\packages\\pythonsoftwarefoundation.python.3.11_qbz5n2kfra8p0\\localcache\\local-packages\\python311\\site-packages (from pandas>=1.0.0->swifter) (2025.2)\n",
            "Requirement already satisfied: tzdata>=2022.7 in c:\\users\\nurul\\appdata\\local\\packages\\pythonsoftwarefoundation.python.3.11_qbz5n2kfra8p0\\localcache\\local-packages\\python311\\site-packages (from pandas>=1.0.0->swifter) (2025.2)\n",
            "Requirement already satisfied: zipp>=3.20 in c:\\users\\nurul\\appdata\\local\\packages\\pythonsoftwarefoundation.python.3.11_qbz5n2kfra8p0\\localcache\\local-packages\\python311\\site-packages (from importlib_metadata>=4.13.0->dask>=2.10.0->dask[dataframe]>=2.10.0->swifter) (3.23.0)\n",
            "Requirement already satisfied: locket in c:\\users\\nurul\\appdata\\local\\packages\\pythonsoftwarefoundation.python.3.11_qbz5n2kfra8p0\\localcache\\local-packages\\python311\\site-packages (from partd>=1.4.0->dask>=2.10.0->dask[dataframe]>=2.10.0->swifter) (1.0.0)\n",
            "Requirement already satisfied: six>=1.5 in c:\\users\\nurul\\appdata\\local\\packages\\pythonsoftwarefoundation.python.3.11_qbz5n2kfra8p0\\localcache\\local-packages\\python311\\site-packages (from python-dateutil>=2.8.2->pandas>=1.0.0->swifter) (1.17.0)\n",
            "Using cached nltk-3.9.1-py3-none-any.whl (1.5 MB)\n",
            "Using cached Sastrawi-1.0.1-py2.py3-none-any.whl (209 kB)\n",
            "Installing collected packages: Sastrawi, nltk\n",
            "Successfully installed Sastrawi-1.0.1 nltk-3.9.1\n"
          ]
        },
        {
          "name": "stderr",
          "output_type": "stream",
          "text": [
            "\n",
            "[notice] A new release of pip is available: 24.0 -> 25.1.1\n",
            "[notice] To update, run: C:\\Users\\nurul\\AppData\\Local\\Microsoft\\WindowsApps\\PythonSoftwareFoundation.Python.3.11_qbz5n2kfra8p0\\python.exe -m pip install --upgrade pip\n",
            "ERROR: Invalid requirement: '#'\n",
            "\n",
            "[notice] A new release of pip is available: 24.0 -> 25.1.1\n",
            "[notice] To update, run: C:\\Users\\nurul\\AppData\\Local\\Microsoft\\WindowsApps\\PythonSoftwareFoundation.Python.3.11_qbz5n2kfra8p0\\python.exe -m pip install --upgrade pip\n"
          ]
        }
      ],
      "source": [
        "# Install library tambahan\n",
        "!pip uninstall -y nltk Sastrawi\n",
        "!pip install nltk Sastrawi swifter tqdm\n",
        "!pip install sentence-transformers # Untuk S-BERT\n"
      ]
    },
    {
      "cell_type": "code",
      "execution_count": 2,
      "id": "05a33771",
      "metadata": {
        "colab": {
          "base_uri": "https://localhost:8080/"
        },
        "id": "05a33771",
        "outputId": "34f9034e-ef6c-4ab0-aa37-1b56acfa18ee"
      },
      "outputs": [
        {
          "name": "stderr",
          "output_type": "stream",
          "text": [
            "C:\\Users\\nurul\\AppData\\Local\\Packages\\PythonSoftwareFoundation.Python.3.11_qbz5n2kfra8p0\\LocalCache\\local-packages\\Python311\\site-packages\\tqdm\\auto.py:21: TqdmWarning: IProgress not found. Please update jupyter and ipywidgets. See https://ipywidgets.readthedocs.io/en/stable/user_install.html\n",
            "  from .autonotebook import tqdm as notebook_tqdm\n",
            "[nltk_data] Downloading package stopwords to\n",
            "[nltk_data]     C:\\Users\\nurul\\AppData\\Roaming\\nltk_data...\n",
            "[nltk_data]   Package stopwords is already up-to-date!\n",
            "[nltk_data] Downloading package punkt to\n",
            "[nltk_data]     C:\\Users\\nurul\\AppData\\Roaming\\nltk_data...\n",
            "[nltk_data]   Package punkt is already up-to-date!\n",
            "[nltk_data] Downloading package punkt_tab to\n",
            "[nltk_data]     C:\\Users\\nurul\\AppData\\Roaming\\nltk_data...\n",
            "[nltk_data]   Package punkt_tab is already up-to-date!\n"
          ]
        }
      ],
      "source": [
        "# Import pustaka\n",
        "import pandas as pd\n",
        "import re\n",
        "import string\n",
        "import nltk\n",
        "import swifter\n",
        "import os\n",
        "import pickle\n",
        "import numpy as np\n",
        "import json\n",
        "from nltk.corpus import stopwords\n",
        "from nltk.tokenize import word_tokenize\n",
        "from Sastrawi.Stemmer.StemmerFactory import StemmerFactory\n",
        "from Sastrawi.StopWordRemover.StopWordRemoverFactory import StopWordRemoverFactory\n",
        "from tqdm import tqdm\n",
        "from sklearn.feature_extraction.text import TfidfVectorizer\n",
        "from sklearn.metrics.pairwise import cosine_similarity\n",
        "from sentence_transformers import SentenceTransformer\n",
        "\n",
        "# --- SETTINGS UNTUK TAMPILAN PANDAS ---\n",
        "pd.set_option('display.max_columns', None)  # Tampilkan semua kolom\n",
        "pd.set_option('display.width', 1000)      # Atur lebar tampilan di konsol\n",
        "pd.set_option('display.max_rows', None)   # Tampilkan semua baris (gunakan hati-hati untuk DataFrame besar)\n",
        "# ------------------------------------\n",
        "\n",
        "tqdm.pandas() # Untuk progress bar di swifter\n",
        "\n",
        "# Download resource NLTK\n",
        "nltk.download('stopwords')\n",
        "nltk.download('punkt')\n",
        "nltk.download('punkt_tab')\n",
        "\n",
        "swifter.set_defaults(display_progress=True)"
      ]
    },
    {
      "cell_type": "markdown",
      "id": "56a7b45d",
      "metadata": {
        "id": "56a7b45d"
      },
      "source": [
        "# STEP 1: Load Dataset\n",
        "Muat data lowongan kerja dari Dealls untuk diproses lebih lanjut."
      ]
    },
    {
      "cell_type": "code",
      "execution_count": 3,
      "id": "293e620d",
      "metadata": {},
      "outputs": [],
      "source": [
        "# --- Konfigurasi File Input/Output ---\n",
        "INPUT_CSV_FILE = 'dealls_jobs_tech.csv'\n",
        "PREPROCESSED_CSV_FILE = 'preprocessed_jobs.csv'  # file hasil stemming\n",
        "\n",
        "OUTPUT_MODEL_DIR = 'recommender_models'\n",
        "os.makedirs(OUTPUT_MODEL_DIR, exist_ok=True)\n"
      ]
    },
    {
      "cell_type": "code",
      "execution_count": 4,
      "id": "46f05d7d",
      "metadata": {
        "colab": {
          "base_uri": "https://localhost:8080/",
          "height": 625
        },
        "id": "46f05d7d",
        "outputId": "3df4628d-2f0e-498a-b335-50b66a580899"
      },
      "outputs": [
        {
          "name": "stdout",
          "output_type": "stream",
          "text": [
            "✅ Data hasil preprocessing ditemukan. Lewati preprocessing dan lanjut ke TF-IDF.\n"
          ]
        },
        {
          "data": {
            "text/html": [
              "<div>\n",
              "<style scoped>\n",
              "    .dataframe tbody tr th:only-of-type {\n",
              "        vertical-align: middle;\n",
              "    }\n",
              "\n",
              "    .dataframe tbody tr th {\n",
              "        vertical-align: top;\n",
              "    }\n",
              "\n",
              "    .dataframe thead th {\n",
              "        text-align: right;\n",
              "    }\n",
              "</style>\n",
              "<table border=\"1\" class=\"dataframe\">\n",
              "  <thead>\n",
              "    <tr style=\"text-align: right;\">\n",
              "      <th></th>\n",
              "      <th>Kategori</th>\n",
              "      <th>Job Title</th>\n",
              "      <th>Company</th>\n",
              "      <th>Work Type</th>\n",
              "      <th>Work Mode</th>\n",
              "      <th>Experience</th>\n",
              "      <th>Salary</th>\n",
              "      <th>Detail Link</th>\n",
              "      <th>Job Description</th>\n",
              "      <th>Qualification</th>\n",
              "      <th>job_text</th>\n",
              "      <th>step_1_clean</th>\n",
              "      <th>step_2_lowercase</th>\n",
              "      <th>step_3_tokenisasi</th>\n",
              "      <th>step_4_stopword</th>\n",
              "      <th>step_5_stemmed</th>\n",
              "      <th>job_text_clean</th>\n",
              "      <th>Work Arrangement</th>\n",
              "      <th>Location</th>\n",
              "    </tr>\n",
              "  </thead>\n",
              "  <tbody>\n",
              "    <tr>\n",
              "      <th>0</th>\n",
              "      <td>Data &amp; Product</td>\n",
              "      <td>Product Manager [Bayarind]</td>\n",
              "      <td>Sprint Asia</td>\n",
              "      <td>Penuh waktu</td>\n",
              "      <td>On-site • Jakarta Selatan</td>\n",
              "      <td>Min. 1 years of experience</td>\n",
              "      <td>Negotiable</td>\n",
              "      <td>https://dealls.com/loker/product-manager-bayar...</td>\n",
              "      <td>Collaborate with stakeholders to gather busine...</td>\n",
              "      <td>Bachelor's degree in Computer Science, Busines...</td>\n",
              "      <td>Product Manager [Bayarind] Collaborate with st...</td>\n",
              "      <td>Product Manager Bayarind Collaborate with stak...</td>\n",
              "      <td>product manager bayarind collaborate with stak...</td>\n",
              "      <td>['product', 'manager', 'bayarind', 'collaborat...</td>\n",
              "      <td>['product', 'manager', 'bayarind', 'collaborat...</td>\n",
              "      <td>['product', 'manager', 'bayarind', 'collaborat...</td>\n",
              "      <td>product manager bayarind collaborate stakehold...</td>\n",
              "      <td>On-site</td>\n",
              "      <td>Jakarta Selatan</td>\n",
              "    </tr>\n",
              "    <tr>\n",
              "      <th>1</th>\n",
              "      <td>Data &amp; Product</td>\n",
              "      <td>Data Scientist Executive</td>\n",
              "      <td>detikcom</td>\n",
              "      <td>Penuh waktu</td>\n",
              "      <td>On-site • Jakarta</td>\n",
              "      <td>Min. 1 years of experience</td>\n",
              "      <td>Negotiable</td>\n",
              "      <td>https://dealls.com/loker/data-scientist-26~det...</td>\n",
              "      <td>Design, develop, and implement machine learnin...</td>\n",
              "      <td>Bachelor’s Or Master’s Degree In Computer Scie...</td>\n",
              "      <td>Data Scientist Executive Design, develop, and ...</td>\n",
              "      <td>Data Scientist Executive Design develop and im...</td>\n",
              "      <td>data scientist executive design develop and im...</td>\n",
              "      <td>['data', 'scientist', 'executive', 'design', '...</td>\n",
              "      <td>['data', 'scientist', 'executive', 'design', '...</td>\n",
              "      <td>['data', 'scientist', 'executive', 'design', '...</td>\n",
              "      <td>data scientist executive design develop implem...</td>\n",
              "      <td>On-site</td>\n",
              "      <td>Jakarta</td>\n",
              "    </tr>\n",
              "    <tr>\n",
              "      <th>2</th>\n",
              "      <td>Data &amp; Product</td>\n",
              "      <td>Billing Staff</td>\n",
              "      <td>Bayan Resources</td>\n",
              "      <td>Penuh waktu</td>\n",
              "      <td>On-site • Jakarta</td>\n",
              "      <td>Min. 1 years of experience</td>\n",
              "      <td>Negotiable</td>\n",
              "      <td>https://dealls.com/loker/billing-staff~bayan-r...</td>\n",
              "      <td>Check payment certificate from site to make su...</td>\n",
              "      <td>Bachelor’s degree in accounting\\nMinimum 1 yea...</td>\n",
              "      <td>Billing Staff Check payment certificate from s...</td>\n",
              "      <td>Billing Staff Check payment certificate from s...</td>\n",
              "      <td>billing staff check payment certificate from s...</td>\n",
              "      <td>['billing', 'staff', 'check', 'payment', 'cert...</td>\n",
              "      <td>['billing', 'staff', 'check', 'payment', 'cert...</td>\n",
              "      <td>['billing', 'staff', 'check', 'payment', 'cert...</td>\n",
              "      <td>billing staff check payment certificate site m...</td>\n",
              "      <td>On-site</td>\n",
              "      <td>Jakarta</td>\n",
              "    </tr>\n",
              "    <tr>\n",
              "      <th>3</th>\n",
              "      <td>Data &amp; Product</td>\n",
              "      <td>Procurement Data Analyst Lead</td>\n",
              "      <td>Kenangan Brands (Kopi Kenangan)</td>\n",
              "      <td>Penuh waktu</td>\n",
              "      <td>On-site • Jakarta</td>\n",
              "      <td>Min. 4 years of experience</td>\n",
              "      <td>Negotiable</td>\n",
              "      <td>https://dealls.com/loker/procurement-data-anal...</td>\n",
              "      <td>Kopi Kenangan, a leading name in the F&amp;B indus...</td>\n",
              "      <td>Proven experience in procurement analysis or a...</td>\n",
              "      <td>Procurement Data Analyst Lead Kopi Kenangan, a...</td>\n",
              "      <td>Procurement Data Analyst Lead Kopi Kenangan a ...</td>\n",
              "      <td>procurement data analyst lead kopi kenangan a ...</td>\n",
              "      <td>['procurement', 'data', 'analyst', 'lead', 'ko...</td>\n",
              "      <td>['procurement', 'data', 'analyst', 'lead', 'ko...</td>\n",
              "      <td>['procurement', 'data', 'analyst', 'lead', 'ko...</td>\n",
              "      <td>procurement data analyst lead kopi kenang lead...</td>\n",
              "      <td>On-site</td>\n",
              "      <td>Jakarta</td>\n",
              "    </tr>\n",
              "    <tr>\n",
              "      <th>4</th>\n",
              "      <td>Data &amp; Product</td>\n",
              "      <td>Process Management System Analyst</td>\n",
              "      <td>PT. Garudafood Putra Putri Jaya, Tbk</td>\n",
              "      <td>Penuh waktu</td>\n",
              "      <td>On-site • Jakarta</td>\n",
              "      <td>Min. 1 years of experience</td>\n",
              "      <td>Negotiable</td>\n",
              "      <td>https://dealls.com/loker/process-management-sy...</td>\n",
              "      <td>1. Memfasilitasi standardisasi proses\\n2. Meny...</td>\n",
              "      <td>1. Mempunyai pemahaman terkait standardisasi p...</td>\n",
              "      <td>Process Management System Analyst 1. Memfasili...</td>\n",
              "      <td>Process Management System Analyst Memfasilitas...</td>\n",
              "      <td>process management system analyst memfasilitas...</td>\n",
              "      <td>['process', 'management', 'system', 'analyst',...</td>\n",
              "      <td>['process', 'management', 'system', 'analyst',...</td>\n",
              "      <td>['process', 'management', 'system', 'analyst',...</td>\n",
              "      <td>process management system analyst fasilitas st...</td>\n",
              "      <td>On-site</td>\n",
              "      <td>Jakarta</td>\n",
              "    </tr>\n",
              "  </tbody>\n",
              "</table>\n",
              "</div>"
            ],
            "text/plain": [
              "         Kategori                          Job Title                               Company    Work Type                  Work Mode                  Experience      Salary                                        Detail Link                                    Job Description                                      Qualification                                           job_text                                       step_1_clean                                   step_2_lowercase                                  step_3_tokenisasi                                    step_4_stopword                                     step_5_stemmed                                     job_text_clean Work Arrangement         Location\n",
              "0  Data & Product         Product Manager [Bayarind]                           Sprint Asia  Penuh waktu  On-site • Jakarta Selatan  Min. 1 years of experience  Negotiable  https://dealls.com/loker/product-manager-bayar...  Collaborate with stakeholders to gather busine...  Bachelor's degree in Computer Science, Busines...  Product Manager [Bayarind] Collaborate with st...  Product Manager Bayarind Collaborate with stak...  product manager bayarind collaborate with stak...  ['product', 'manager', 'bayarind', 'collaborat...  ['product', 'manager', 'bayarind', 'collaborat...  ['product', 'manager', 'bayarind', 'collaborat...  product manager bayarind collaborate stakehold...          On-site  Jakarta Selatan\n",
              "1  Data & Product           Data Scientist Executive                              detikcom  Penuh waktu          On-site • Jakarta  Min. 1 years of experience  Negotiable  https://dealls.com/loker/data-scientist-26~det...  Design, develop, and implement machine learnin...  Bachelor’s Or Master’s Degree In Computer Scie...  Data Scientist Executive Design, develop, and ...  Data Scientist Executive Design develop and im...  data scientist executive design develop and im...  ['data', 'scientist', 'executive', 'design', '...  ['data', 'scientist', 'executive', 'design', '...  ['data', 'scientist', 'executive', 'design', '...  data scientist executive design develop implem...          On-site          Jakarta\n",
              "2  Data & Product                      Billing Staff                       Bayan Resources  Penuh waktu          On-site • Jakarta  Min. 1 years of experience  Negotiable  https://dealls.com/loker/billing-staff~bayan-r...  Check payment certificate from site to make su...  Bachelor’s degree in accounting\\nMinimum 1 yea...  Billing Staff Check payment certificate from s...  Billing Staff Check payment certificate from s...  billing staff check payment certificate from s...  ['billing', 'staff', 'check', 'payment', 'cert...  ['billing', 'staff', 'check', 'payment', 'cert...  ['billing', 'staff', 'check', 'payment', 'cert...  billing staff check payment certificate site m...          On-site          Jakarta\n",
              "3  Data & Product      Procurement Data Analyst Lead       Kenangan Brands (Kopi Kenangan)  Penuh waktu          On-site • Jakarta  Min. 4 years of experience  Negotiable  https://dealls.com/loker/procurement-data-anal...  Kopi Kenangan, a leading name in the F&B indus...  Proven experience in procurement analysis or a...  Procurement Data Analyst Lead Kopi Kenangan, a...  Procurement Data Analyst Lead Kopi Kenangan a ...  procurement data analyst lead kopi kenangan a ...  ['procurement', 'data', 'analyst', 'lead', 'ko...  ['procurement', 'data', 'analyst', 'lead', 'ko...  ['procurement', 'data', 'analyst', 'lead', 'ko...  procurement data analyst lead kopi kenang lead...          On-site          Jakarta\n",
              "4  Data & Product  Process Management System Analyst  PT. Garudafood Putra Putri Jaya, Tbk  Penuh waktu          On-site • Jakarta  Min. 1 years of experience  Negotiable  https://dealls.com/loker/process-management-sy...  1. Memfasilitasi standardisasi proses\\n2. Meny...  1. Mempunyai pemahaman terkait standardisasi p...  Process Management System Analyst 1. Memfasili...  Process Management System Analyst Memfasilitas...  process management system analyst memfasilitas...  ['process', 'management', 'system', 'analyst',...  ['process', 'management', 'system', 'analyst',...  ['process', 'management', 'system', 'analyst',...  process management system analyst fasilitas st...          On-site          Jakarta"
            ]
          },
          "execution_count": 4,
          "metadata": {},
          "output_type": "execute_result"
        }
      ],
      "source": [
        "# --- Load Data ---\n",
        "if os.path.exists(PREPROCESSED_CSV_FILE):\n",
        "    df = pd.read_csv(PREPROCESSED_CSV_FILE)\n",
        "    print(\"✅ Data hasil preprocessing ditemukan. Lewati preprocessing dan lanjut ke TF-IDF.\")\n",
        "    skip_preprocessing = True\n",
        "else:\n",
        "    df = pd.read_csv(INPUT_CSV_FILE)\n",
        "    print(\"📥 Menggunakan original data. Lanjut ke preprocessing.\")\n",
        "    skip_preprocessing = False\n",
        "\n",
        "df.head()"
      ]
    },
    {
      "cell_type": "code",
      "execution_count": 5,
      "id": "aa0b67ec",
      "metadata": {},
      "outputs": [
        {
          "data": {
            "text/plain": [
              "Kategori              0\n",
              "Job Title             0\n",
              "Company               0\n",
              "Work Type             0\n",
              "Work Mode             0\n",
              "Experience            0\n",
              "Salary                0\n",
              "Detail Link           0\n",
              "Job Description       1\n",
              "Qualification         0\n",
              "job_text              0\n",
              "step_1_clean          0\n",
              "step_2_lowercase      0\n",
              "step_3_tokenisasi     0\n",
              "step_4_stopword       0\n",
              "step_5_stemmed        0\n",
              "job_text_clean        0\n",
              "Work Arrangement      0\n",
              "Location             37\n",
              "dtype: int64"
            ]
          },
          "execution_count": 5,
          "metadata": {},
          "output_type": "execute_result"
        }
      ],
      "source": [
        "df.isnull().sum()"
      ]
    },
    {
      "cell_type": "markdown",
      "id": "a95f736f",
      "metadata": {
        "id": "a95f736f"
      },
      "source": [
        "Dari preview data tersebut, akan dilakukan beberapa proses preprocesing, yaitu:\n",
        "\n",
        "1.   Kolom *Job Title*, *Job Description*, dan kolom *Qualification* akan digabungkan menjadi satu kolom baru dengan nama *job_text* untuk memudahkan proses preprocessing teks.\n",
        "2. Lalu, untuk kolom *Work Mode* akan dipecah menjadi kolom *mode* dan *location*.\n",
        "3. Terakhir, akan dilakukan encoding terhadap kolom-kolom kategorikal"
      ]
    },
    {
      "cell_type": "markdown",
      "id": "pQdQ5lyKI5ur",
      "metadata": {
        "id": "pQdQ5lyKI5ur"
      },
      "source": [
        "# STEP 2: Preprocessing\n",
        "Pada proses ini, dilakukan preprocessing teks dan fitur kategorikal dari dataset lowongan pekerjaan dari Dealls. Output akhir adalah dataset bersih yang siap digunakan untuk model sistem rekomendasi.\n"
      ]
    },
    {
      "cell_type": "markdown",
      "id": "xqqq2JCD9SCs",
      "metadata": {
        "id": "xqqq2JCD9SCs"
      },
      "source": [
        "## STEP 2.1 Preprocessing Content-Based (kolom job_text)\n",
        "* Dilakukan penggabungan kolom Job Title, Job Description, dan Qualification menjadi satu kolom, yaitu *job_text*\n",
        "\n",
        "* Dilakukan pembersihan data, seperti menghilangkan URL, simbol, angka, emoji, dan spasi berlebih dari job_text\n",
        "\n",
        "* Dilakukan lowerisasi, tokenisasi, stopword removal, dan stemming\n",
        "\n",
        "* Hasil stemming digabungkan kembali menjadi string lalu disimpan ke file CSV\n"
      ]
    },
    {
      "cell_type": "code",
      "execution_count": 6,
      "id": "3f587d00",
      "metadata": {},
      "outputs": [],
      "source": [
        "# --- 2.1.2. Inisialisasi Stemmer --- \n",
        "factory_stemmer = StemmerFactory()\n",
        "stemmer = factory_stemmer.create_stemmer()\n",
        "\n",
        "factory_stopword = StopWordRemoverFactory()\n",
        "stopword_remover = factory_stopword.create_stop_word_remover()\n",
        "\n",
        "stop_words_en = set(stopwords.words('english'))\n",
        "stop_words_id = set([\n",
        "    'yang', 'dan', 'di', 'ke', 'dari', 'untuk', 'dengan', 'atau', 'pada', 'ini', 'itu',\n",
        "    'sebagai', 'jika', 'ada', 'karena', 'saat', 'oleh', 'juga', 'agar', 'dalam', 'tidak',\n",
        "    'adalah', 'bahwa', 'maupun', 'bagi', 'dapat', 'telah', 'sudah', 'lebih', 'harus',\n",
        "    'setiap', 'kita', 'kami', 'saya', 'anda', 'mereka', 'semua', 'bisa', 'masih',\n",
        "    'akan', 'dan', 'pun', 'hingga', 'dengan', 'berikut', 'namun', 'sehingga'\n",
        "])\n",
        "stop_words_all = stop_words_en.union(stop_words_id)"
      ]
    },
    {
      "cell_type": "code",
      "execution_count": 7,
      "id": "a73cb9d3",
      "metadata": {},
      "outputs": [],
      "source": [
        "# --- 2.1.3. Definisi Fungsi Preprocessing ---\n",
        "def tahap1_clean(text):\n",
        "    if not isinstance(text, str): # Pastikan input adalah string\n",
        "        return \"\"\n",
        "    text = re.sub(r'http\\S+|www\\S+', '', text)                       # hapus URL\n",
        "    text = re.sub(r'\\d+', '', text)                                  # hapus angka\n",
        "    text = text.translate(str.maketrans('', '', string.punctuation)) # hapus tanda baca & simbol\n",
        "    text = re.sub(r'[^\\x00-\\x7F]+', ' ', text)                       # hapus emoji dan karakter aneh\n",
        "    text = re.sub(r'\\s+', ' ', text).strip()                         # trim spasi berlebih\n",
        "    return text\n",
        "\n",
        "def tahap3_tokenisasi(text):\n",
        "    return word_tokenize(text)\n",
        "\n",
        "def tahap4_stopword(tokens):\n",
        "    return [word for word in tokens if word not in stop_words_all and len(word) > 2] # Filter kata < 3 huruf\n",
        "\n",
        "def tahap5_stemming_job(token_list):\n",
        "    return [stemmer.stem(word) for word in token_list]"
      ]
    },
    {
      "cell_type": "code",
      "execution_count": 8,
      "id": "k9G0YvpAI1yJ",
      "metadata": {
        "id": "k9G0YvpAI1yJ"
      },
      "outputs": [],
      "source": [
        "# --- 2.1.4. Fungsi gabungan untuk preprocessing teks baru (pipeline) --- \n",
        "def cleaning_pipeline(text):\n",
        "    # Step 1: Bersihkan URL, simbol, angka, emoji\n",
        "    text = tahap1_clean(text)\n",
        "\n",
        "    # Step 2: Lowercase\n",
        "    text = text.lower()\n",
        "\n",
        "    # Step 3: Tokenisasi\n",
        "    tokens = tahap3_tokenisasi(text)\n",
        "\n",
        "    # Step 4: Stopword Removal\n",
        "    tokens = tahap4_stopword(tokens)\n",
        "\n",
        "    # Step 5: Stemming\n",
        "    stemmed = tahap5_stemming_job(tokens)\n",
        "\n",
        "    return ' '.join(stemmed)"
      ]
    },
    {
      "cell_type": "code",
      "execution_count": 9,
      "id": "0aff1e75",
      "metadata": {},
      "outputs": [
        {
          "name": "stdout",
          "output_type": "stream",
          "text": [
            "📄 Kolom job_text_clean sudah tersedia, preprocessing dilewati.\n"
          ]
        }
      ],
      "source": [
        "# --- 2.1.5. Terapkan Pipeline ke DataFrame ---\n",
        "if not skip_preprocessing:\n",
        "    # Gabungkan kolom Job Title + Job Description + Qualification\n",
        "    df['job_text'] = df[\"Job Title\"].astype(str) + \" \" + df[\"Job Description\"].astype(str) + \" \" + df[\"Qualification\"].astype(str)\n",
        "\n",
        "    print(\"\\n🔄 Memulai pipeline preprocessing ke DataFrame...\")\n",
        "\n",
        "    df['step_1_clean'] = df['job_text'].swifter.apply(tahap1_clean)\n",
        "    df['step_2_lowercase'] = df['step_1_clean'].str.lower()\n",
        "    df['step_3_tokenisasi'] = df['step_2_lowercase'].swifter.apply(tahap3_tokenisasi)\n",
        "    df['step_4_stopword'] = df['step_3_tokenisasi'].swifter.apply(tahap4_stopword)\n",
        "    df['step_5_stemmed'] = df['step_4_stopword'].swifter.apply(tahap5_stemming_job)\n",
        "\n",
        "    df['job_text_clean'] = df['step_5_stemmed'].apply(lambda x: ' '.join(x))\n",
        "\n",
        "    df.to_csv(PREPROCESSED_CSV_FILE, index=False)\n",
        "    print(f\"✅ Preprocessing selesai, data disimpan ke {PREPROCESSED_CSV_FILE}\")\n",
        "else:\n",
        "    print(\"📄 Kolom job_text_clean sudah tersedia, preprocessing dilewati.\")\n"
      ]
    },
    {
      "cell_type": "code",
      "execution_count": 10,
      "id": "1b8a6b73",
      "metadata": {},
      "outputs": [
        {
          "name": "stdout",
          "output_type": "stream",
          "text": [
            "✅ STEP 2.1.7. - Preprocessing selesai, data disimpan ke preprocessed_jobs.csv\n"
          ]
        }
      ],
      "source": [
        "# --- 2.1.7. Simpan ke CSV supaya tidak perlu preprocess ulang selama data masih sama\n",
        "df.to_csv('preprocessed_jobs.csv', index=False)\n",
        "print(\"✅ STEP 2.1.7. - Preprocessing selesai, data disimpan ke preprocessed_jobs.csv\")\n"
      ]
    },
    {
      "cell_type": "code",
      "execution_count": 25,
      "id": "3266b69c",
      "metadata": {},
      "outputs": [
        {
          "name": "stdout",
          "output_type": "stream",
          "text": [
            "Teks awal : Dicari kandidat yang memiliki pengalaman data engineering minimal 2 tahun dan siap kerja remote.\n",
            "\n",
            "Teks akhir: cari kandidat milik alam data engineering minimal tahun siap kerja remote\n"
          ]
        }
      ],
      "source": [
        "# Contoh input\n",
        "new_text = \"Dicari kandidat yang memiliki pengalaman data engineering minimal 2 tahun dan siap kerja remote.\"\n",
        "\n",
        "# Preprocess\n",
        "cleaned_tokens = cleaning_pipeline(new_text)\n",
        "\n",
        "print(\"Teks awal :\", new_text)\n",
        "print(\"\\nTeks akhir:\", cleaned_tokens)\n"
      ]
    },
    {
      "cell_type": "markdown",
      "id": "Rp38ShUj3ln3",
      "metadata": {
        "id": "Rp38ShUj3ln3"
      },
      "source": [
        "## STEP 2.2: Pemecahan Kolom Work Mode dan Encoding\n",
        "* DIlakukan pemecahan pada kolom 'Work Mode' menjadi dua kolom: 'Work Arrangement' dan 'Location'"
      ]
    },
    {
      "cell_type": "code",
      "execution_count": 12,
      "id": "qcEfeSq_3uVY",
      "metadata": {
        "colab": {
          "base_uri": "https://localhost:8080/",
          "height": 224
        },
        "id": "qcEfeSq_3uVY",
        "outputId": "377efacd-1ff3-471c-d2ee-d49da2a4a39e"
      },
      "outputs": [
        {
          "name": "stdout",
          "output_type": "stream",
          "text": [
            "✅ STEP 2.2.1 - Work Mode dipecah menjadi Work Arrangement dan Location:\n"
          ]
        },
        {
          "data": {
            "text/html": [
              "<div>\n",
              "<style scoped>\n",
              "    .dataframe tbody tr th:only-of-type {\n",
              "        vertical-align: middle;\n",
              "    }\n",
              "\n",
              "    .dataframe tbody tr th {\n",
              "        vertical-align: top;\n",
              "    }\n",
              "\n",
              "    .dataframe thead th {\n",
              "        text-align: right;\n",
              "    }\n",
              "</style>\n",
              "<table border=\"1\" class=\"dataframe\">\n",
              "  <thead>\n",
              "    <tr style=\"text-align: right;\">\n",
              "      <th></th>\n",
              "      <th>Work Mode</th>\n",
              "      <th>Work Arrangement</th>\n",
              "      <th>Location</th>\n",
              "    </tr>\n",
              "  </thead>\n",
              "  <tbody>\n",
              "    <tr>\n",
              "      <th>0</th>\n",
              "      <td>On-site • Jakarta Selatan</td>\n",
              "      <td>On-site</td>\n",
              "      <td>Jakarta Selatan</td>\n",
              "    </tr>\n",
              "    <tr>\n",
              "      <th>1</th>\n",
              "      <td>On-site • Jakarta</td>\n",
              "      <td>On-site</td>\n",
              "      <td>Jakarta</td>\n",
              "    </tr>\n",
              "    <tr>\n",
              "      <th>2</th>\n",
              "      <td>On-site • Jakarta</td>\n",
              "      <td>On-site</td>\n",
              "      <td>Jakarta</td>\n",
              "    </tr>\n",
              "    <tr>\n",
              "      <th>3</th>\n",
              "      <td>On-site • Jakarta</td>\n",
              "      <td>On-site</td>\n",
              "      <td>Jakarta</td>\n",
              "    </tr>\n",
              "    <tr>\n",
              "      <th>4</th>\n",
              "      <td>On-site • Jakarta</td>\n",
              "      <td>On-site</td>\n",
              "      <td>Jakarta</td>\n",
              "    </tr>\n",
              "  </tbody>\n",
              "</table>\n",
              "</div>"
            ],
            "text/plain": [
              "                   Work Mode Work Arrangement         Location\n",
              "0  On-site • Jakarta Selatan          On-site  Jakarta Selatan\n",
              "1          On-site • Jakarta          On-site          Jakarta\n",
              "2          On-site • Jakarta          On-site          Jakarta\n",
              "3          On-site • Jakarta          On-site          Jakarta\n",
              "4          On-site • Jakarta          On-site          Jakarta"
            ]
          },
          "execution_count": 12,
          "metadata": {},
          "output_type": "execute_result"
        }
      ],
      "source": [
        "# --- 2.2.1: Pecah kolom 'Work Mode' jadi dua kolom baru ---\n",
        "df[['Work Arrangement', 'Location']] = df['Work Mode'].str.split(' • ', expand=True)\n",
        "\n",
        "# Bersihkan spasi berlebih\n",
        "df['Work Arrangement'] = df['Work Arrangement'].str.strip()\n",
        "df['Location'] = df['Location'].str.strip()\n",
        "\n",
        "print(\"✅ STEP 2.2.1 - Work Mode dipecah menjadi Work Arrangement dan Location:\")\n",
        "df[['Work Mode', 'Work Arrangement', 'Location']].head()"
      ]
    },
    {
      "cell_type": "code",
      "execution_count": 13,
      "id": "0-ElaU6k4SYT",
      "metadata": {
        "colab": {
          "base_uri": "https://localhost:8080/",
          "height": 625
        },
        "id": "0-ElaU6k4SYT",
        "outputId": "50b5d0e2-65c6-4850-b9f5-2deb43ffce79"
      },
      "outputs": [
        {
          "data": {
            "text/html": [
              "<div>\n",
              "<style scoped>\n",
              "    .dataframe tbody tr th:only-of-type {\n",
              "        vertical-align: middle;\n",
              "    }\n",
              "\n",
              "    .dataframe tbody tr th {\n",
              "        vertical-align: top;\n",
              "    }\n",
              "\n",
              "    .dataframe thead th {\n",
              "        text-align: right;\n",
              "    }\n",
              "</style>\n",
              "<table border=\"1\" class=\"dataframe\">\n",
              "  <thead>\n",
              "    <tr style=\"text-align: right;\">\n",
              "      <th></th>\n",
              "      <th>Kategori</th>\n",
              "      <th>Job Title</th>\n",
              "      <th>Company</th>\n",
              "      <th>Work Type</th>\n",
              "      <th>Work Mode</th>\n",
              "      <th>Experience</th>\n",
              "      <th>Salary</th>\n",
              "      <th>Detail Link</th>\n",
              "      <th>Job Description</th>\n",
              "      <th>Qualification</th>\n",
              "      <th>job_text</th>\n",
              "      <th>step_1_clean</th>\n",
              "      <th>step_2_lowercase</th>\n",
              "      <th>step_3_tokenisasi</th>\n",
              "      <th>step_4_stopword</th>\n",
              "      <th>step_5_stemmed</th>\n",
              "      <th>job_text_clean</th>\n",
              "      <th>Work Arrangement</th>\n",
              "      <th>Location</th>\n",
              "    </tr>\n",
              "  </thead>\n",
              "  <tbody>\n",
              "    <tr>\n",
              "      <th>0</th>\n",
              "      <td>Data &amp; Product</td>\n",
              "      <td>Product Manager [Bayarind]</td>\n",
              "      <td>Sprint Asia</td>\n",
              "      <td>Penuh waktu</td>\n",
              "      <td>On-site • Jakarta Selatan</td>\n",
              "      <td>Min. 1 years of experience</td>\n",
              "      <td>Negotiable</td>\n",
              "      <td>https://dealls.com/loker/product-manager-bayar...</td>\n",
              "      <td>Collaborate with stakeholders to gather busine...</td>\n",
              "      <td>Bachelor's degree in Computer Science, Busines...</td>\n",
              "      <td>Product Manager [Bayarind] Collaborate with st...</td>\n",
              "      <td>Product Manager Bayarind Collaborate with stak...</td>\n",
              "      <td>product manager bayarind collaborate with stak...</td>\n",
              "      <td>['product', 'manager', 'bayarind', 'collaborat...</td>\n",
              "      <td>['product', 'manager', 'bayarind', 'collaborat...</td>\n",
              "      <td>['product', 'manager', 'bayarind', 'collaborat...</td>\n",
              "      <td>product manager bayarind collaborate stakehold...</td>\n",
              "      <td>On-site</td>\n",
              "      <td>Jakarta Selatan</td>\n",
              "    </tr>\n",
              "    <tr>\n",
              "      <th>1</th>\n",
              "      <td>Data &amp; Product</td>\n",
              "      <td>Data Scientist Executive</td>\n",
              "      <td>detikcom</td>\n",
              "      <td>Penuh waktu</td>\n",
              "      <td>On-site • Jakarta</td>\n",
              "      <td>Min. 1 years of experience</td>\n",
              "      <td>Negotiable</td>\n",
              "      <td>https://dealls.com/loker/data-scientist-26~det...</td>\n",
              "      <td>Design, develop, and implement machine learnin...</td>\n",
              "      <td>Bachelor’s Or Master’s Degree In Computer Scie...</td>\n",
              "      <td>Data Scientist Executive Design, develop, and ...</td>\n",
              "      <td>Data Scientist Executive Design develop and im...</td>\n",
              "      <td>data scientist executive design develop and im...</td>\n",
              "      <td>['data', 'scientist', 'executive', 'design', '...</td>\n",
              "      <td>['data', 'scientist', 'executive', 'design', '...</td>\n",
              "      <td>['data', 'scientist', 'executive', 'design', '...</td>\n",
              "      <td>data scientist executive design develop implem...</td>\n",
              "      <td>On-site</td>\n",
              "      <td>Jakarta</td>\n",
              "    </tr>\n",
              "    <tr>\n",
              "      <th>2</th>\n",
              "      <td>Data &amp; Product</td>\n",
              "      <td>Billing Staff</td>\n",
              "      <td>Bayan Resources</td>\n",
              "      <td>Penuh waktu</td>\n",
              "      <td>On-site • Jakarta</td>\n",
              "      <td>Min. 1 years of experience</td>\n",
              "      <td>Negotiable</td>\n",
              "      <td>https://dealls.com/loker/billing-staff~bayan-r...</td>\n",
              "      <td>Check payment certificate from site to make su...</td>\n",
              "      <td>Bachelor’s degree in accounting\\nMinimum 1 yea...</td>\n",
              "      <td>Billing Staff Check payment certificate from s...</td>\n",
              "      <td>Billing Staff Check payment certificate from s...</td>\n",
              "      <td>billing staff check payment certificate from s...</td>\n",
              "      <td>['billing', 'staff', 'check', 'payment', 'cert...</td>\n",
              "      <td>['billing', 'staff', 'check', 'payment', 'cert...</td>\n",
              "      <td>['billing', 'staff', 'check', 'payment', 'cert...</td>\n",
              "      <td>billing staff check payment certificate site m...</td>\n",
              "      <td>On-site</td>\n",
              "      <td>Jakarta</td>\n",
              "    </tr>\n",
              "    <tr>\n",
              "      <th>3</th>\n",
              "      <td>Data &amp; Product</td>\n",
              "      <td>Procurement Data Analyst Lead</td>\n",
              "      <td>Kenangan Brands (Kopi Kenangan)</td>\n",
              "      <td>Penuh waktu</td>\n",
              "      <td>On-site • Jakarta</td>\n",
              "      <td>Min. 4 years of experience</td>\n",
              "      <td>Negotiable</td>\n",
              "      <td>https://dealls.com/loker/procurement-data-anal...</td>\n",
              "      <td>Kopi Kenangan, a leading name in the F&amp;B indus...</td>\n",
              "      <td>Proven experience in procurement analysis or a...</td>\n",
              "      <td>Procurement Data Analyst Lead Kopi Kenangan, a...</td>\n",
              "      <td>Procurement Data Analyst Lead Kopi Kenangan a ...</td>\n",
              "      <td>procurement data analyst lead kopi kenangan a ...</td>\n",
              "      <td>['procurement', 'data', 'analyst', 'lead', 'ko...</td>\n",
              "      <td>['procurement', 'data', 'analyst', 'lead', 'ko...</td>\n",
              "      <td>['procurement', 'data', 'analyst', 'lead', 'ko...</td>\n",
              "      <td>procurement data analyst lead kopi kenang lead...</td>\n",
              "      <td>On-site</td>\n",
              "      <td>Jakarta</td>\n",
              "    </tr>\n",
              "    <tr>\n",
              "      <th>4</th>\n",
              "      <td>Data &amp; Product</td>\n",
              "      <td>Process Management System Analyst</td>\n",
              "      <td>PT. Garudafood Putra Putri Jaya, Tbk</td>\n",
              "      <td>Penuh waktu</td>\n",
              "      <td>On-site • Jakarta</td>\n",
              "      <td>Min. 1 years of experience</td>\n",
              "      <td>Negotiable</td>\n",
              "      <td>https://dealls.com/loker/process-management-sy...</td>\n",
              "      <td>1. Memfasilitasi standardisasi proses\\n2. Meny...</td>\n",
              "      <td>1. Mempunyai pemahaman terkait standardisasi p...</td>\n",
              "      <td>Process Management System Analyst 1. Memfasili...</td>\n",
              "      <td>Process Management System Analyst Memfasilitas...</td>\n",
              "      <td>process management system analyst memfasilitas...</td>\n",
              "      <td>['process', 'management', 'system', 'analyst',...</td>\n",
              "      <td>['process', 'management', 'system', 'analyst',...</td>\n",
              "      <td>['process', 'management', 'system', 'analyst',...</td>\n",
              "      <td>process management system analyst fasilitas st...</td>\n",
              "      <td>On-site</td>\n",
              "      <td>Jakarta</td>\n",
              "    </tr>\n",
              "  </tbody>\n",
              "</table>\n",
              "</div>"
            ],
            "text/plain": [
              "         Kategori                          Job Title                               Company    Work Type                  Work Mode                  Experience      Salary                                        Detail Link                                    Job Description                                      Qualification                                           job_text                                       step_1_clean                                   step_2_lowercase                                  step_3_tokenisasi                                    step_4_stopword                                     step_5_stemmed                                     job_text_clean Work Arrangement         Location\n",
              "0  Data & Product         Product Manager [Bayarind]                           Sprint Asia  Penuh waktu  On-site • Jakarta Selatan  Min. 1 years of experience  Negotiable  https://dealls.com/loker/product-manager-bayar...  Collaborate with stakeholders to gather busine...  Bachelor's degree in Computer Science, Busines...  Product Manager [Bayarind] Collaborate with st...  Product Manager Bayarind Collaborate with stak...  product manager bayarind collaborate with stak...  ['product', 'manager', 'bayarind', 'collaborat...  ['product', 'manager', 'bayarind', 'collaborat...  ['product', 'manager', 'bayarind', 'collaborat...  product manager bayarind collaborate stakehold...          On-site  Jakarta Selatan\n",
              "1  Data & Product           Data Scientist Executive                              detikcom  Penuh waktu          On-site • Jakarta  Min. 1 years of experience  Negotiable  https://dealls.com/loker/data-scientist-26~det...  Design, develop, and implement machine learnin...  Bachelor’s Or Master’s Degree In Computer Scie...  Data Scientist Executive Design, develop, and ...  Data Scientist Executive Design develop and im...  data scientist executive design develop and im...  ['data', 'scientist', 'executive', 'design', '...  ['data', 'scientist', 'executive', 'design', '...  ['data', 'scientist', 'executive', 'design', '...  data scientist executive design develop implem...          On-site          Jakarta\n",
              "2  Data & Product                      Billing Staff                       Bayan Resources  Penuh waktu          On-site • Jakarta  Min. 1 years of experience  Negotiable  https://dealls.com/loker/billing-staff~bayan-r...  Check payment certificate from site to make su...  Bachelor’s degree in accounting\\nMinimum 1 yea...  Billing Staff Check payment certificate from s...  Billing Staff Check payment certificate from s...  billing staff check payment certificate from s...  ['billing', 'staff', 'check', 'payment', 'cert...  ['billing', 'staff', 'check', 'payment', 'cert...  ['billing', 'staff', 'check', 'payment', 'cert...  billing staff check payment certificate site m...          On-site          Jakarta\n",
              "3  Data & Product      Procurement Data Analyst Lead       Kenangan Brands (Kopi Kenangan)  Penuh waktu          On-site • Jakarta  Min. 4 years of experience  Negotiable  https://dealls.com/loker/procurement-data-anal...  Kopi Kenangan, a leading name in the F&B indus...  Proven experience in procurement analysis or a...  Procurement Data Analyst Lead Kopi Kenangan, a...  Procurement Data Analyst Lead Kopi Kenangan a ...  procurement data analyst lead kopi kenangan a ...  ['procurement', 'data', 'analyst', 'lead', 'ko...  ['procurement', 'data', 'analyst', 'lead', 'ko...  ['procurement', 'data', 'analyst', 'lead', 'ko...  procurement data analyst lead kopi kenang lead...          On-site          Jakarta\n",
              "4  Data & Product  Process Management System Analyst  PT. Garudafood Putra Putri Jaya, Tbk  Penuh waktu          On-site • Jakarta  Min. 1 years of experience  Negotiable  https://dealls.com/loker/process-management-sy...  1. Memfasilitasi standardisasi proses\\n2. Meny...  1. Mempunyai pemahaman terkait standardisasi p...  Process Management System Analyst 1. Memfasili...  Process Management System Analyst Memfasilitas...  process management system analyst memfasilitas...  ['process', 'management', 'system', 'analyst',...  ['process', 'management', 'system', 'analyst',...  ['process', 'management', 'system', 'analyst',...  process management system analyst fasilitas st...          On-site          Jakarta"
            ]
          },
          "execution_count": 13,
          "metadata": {},
          "output_type": "execute_result"
        }
      ],
      "source": [
        "df.head()"
      ]
    },
    {
      "cell_type": "code",
      "execution_count": 14,
      "id": "2WiaMiez6lNs",
      "metadata": {
        "colab": {
          "base_uri": "https://localhost:8080/"
        },
        "id": "2WiaMiez6lNs",
        "outputId": "a4920c76-356d-48d2-8a49-a53c04fdffcd"
      },
      "outputs": [
        {
          "name": "stdout",
          "output_type": "stream",
          "text": [
            "✅ STEP 2.2.2 - Dataset final disimpan ke final_preprocessed_jobs_tech.csv\n"
          ]
        }
      ],
      "source": [
        "# --- 2.2.2. Save hasil preprocessing ---\n",
        "df.to_csv(\"final_preprocessed_jobs_tech.csv\", index=False)\n",
        "print(\"✅ STEP 2.2.2 - Dataset final disimpan ke final_preprocessed_jobs_tech.csv\")"
      ]
    },
    {
      "cell_type": "markdown",
      "id": "e0d2068e",
      "metadata": {},
      "source": [
        "# STEP 3: Text Vectorization"
      ]
    },
    {
      "cell_type": "code",
      "execution_count": 15,
      "id": "c9c09e2f",
      "metadata": {},
      "outputs": [
        {
          "name": "stdout",
          "output_type": "stream",
          "text": [
            "✅ STEP 3.1 - Text Vectorization dengan TF-IDF selesai. \n",
            "\n",
            "Bentuk matriks TF-IDF:\n",
            "<Compressed Sparse Row sparse matrix of dtype 'float64'\n",
            "\twith 83856 stored elements and shape (1138, 5000)>\n",
            "  Coords\tValues\n",
            "  (0, 3499)\t0.28083127466762947\n",
            "  (0, 2695)\t0.06525035208501327\n",
            "  (0, 460)\t0.1340362757699707\n",
            "  (0, 800)\t0.058154624013021114\n",
            "  (0, 4303)\t0.14523241420394492\n",
            "  (0, 1798)\t0.10257009739800517\n",
            "  (0, 605)\t0.10406678544299022\n",
            "  (0, 4810)\t0.20360602551177415\n",
            "  (0, 3787)\t0.13774950335566596\n",
            "  (0, 4695)\t0.09442661635193031\n",
            "  (0, 763)\t0.09442661635193031\n",
            "  (0, 1199)\t0.09879565344327129\n",
            "  (0, 1272)\t0.07302889356925019\n",
            "  (0, 4345)\t0.10930088590815938\n",
            "  (0, 4967)\t0.0429700979449773\n",
            "  (0, 773)\t0.07545248579728818\n",
            "  (0, 1418)\t0.05922245798460051\n",
            "  (0, 1186)\t0.09647749454644704\n",
            "  (0, 4529)\t0.11487509793608773\n",
            "  (0, 1144)\t0.08941346710128349\n",
            "  (0, 1608)\t0.08688595682548791\n",
            "  (0, 1426)\t0.12307445086867605\n",
            "  (0, 333)\t0.08131709701798479\n",
            "  (0, 1138)\t0.12102918639148816\n",
            "  (0, 3868)\t0.13072835094774993\n",
            "  :\t:\n",
            "  (1137, 158)\t0.08981406427665996\n",
            "  (1137, 538)\t0.08641606933783985\n",
            "  (1137, 557)\t0.26773705081011095\n",
            "  (1137, 3723)\t0.08059422568175303\n",
            "  (1137, 1414)\t0.13065941136662218\n",
            "  (1137, 540)\t0.09700179995057663\n",
            "  (1137, 837)\t0.07445359877194496\n",
            "  (1137, 2403)\t0.19400359990115326\n",
            "  (1137, 4835)\t0.09933451218583456\n",
            "  (1137, 925)\t0.09136807845988554\n",
            "  (1137, 4415)\t0.07580964202843667\n",
            "  (1137, 4969)\t0.10200153604731586\n",
            "  (1137, 1722)\t0.12396856936258177\n",
            "  (1137, 569)\t0.09933451218583456\n",
            "  (1137, 2153)\t0.06860784571754014\n",
            "  (1137, 838)\t0.10062035809593871\n",
            "  (1137, 2094)\t0.19400359990115326\n",
            "  (1137, 4896)\t0.09057487903280606\n",
            "  (1137, 2830)\t0.08521324081859769\n",
            "  (1137, 840)\t0.10349332188080076\n",
            "  (1137, 2642)\t0.11105012651458708\n",
            "  (1137, 3099)\t0.23961951933523112\n",
            "  (1137, 1571)\t0.08463973792487844\n",
            "  (1137, 841)\t0.18114975806561212\n",
            "  (1137, 2404)\t0.12933020757679017\n",
            "\n",
            "TF-IDF Vectorizer disimpan ke 'recommender_models\\tfidf_vectorizer.pkl'\n",
            "\n",
            "TF-IDF Matrix disimpan ke 'recommender_models\\tfidf_matrix.pkl'\n"
          ]
        }
      ],
      "source": [
        "# --- 3.1 Inisialisasi TF-IDF Vectorizer ---\n",
        "\n",
        "# max_features: Batas jumlah kata unik yang digunakan sebagai fitur.\n",
        "#               Membantu mengurangi dimensi dan fokus pada kata-kata paling penting.\n",
        "tfidf_vectorizer = TfidfVectorizer(max_features=5000) \n",
        "\n",
        "# Fitur dan transform data teks yang sudah diproses\n",
        "# tfidf_matrix akan menjadi representasi numerik dari setiap lowongan\n",
        "tfidf_matrix = tfidf_vectorizer.fit_transform(df['job_text_clean'])\n",
        "\n",
        "print(\"✅ STEP 3.1 - Text Vectorization dengan TF-IDF selesai. \\n\\nBentuk matriks TF-IDF:\")\n",
        "print(tfidf_matrix)\n",
        "\n",
        "# Simpan TF-IDF Vectorizer\n",
        "with open(os.path.join(OUTPUT_MODEL_DIR, 'tfidf_vectorizer.pkl'), 'wb') as f:\n",
        "    pickle.dump(tfidf_vectorizer, f)\n",
        "print(f\"\\nTF-IDF Vectorizer disimpan ke '{os.path.join(OUTPUT_MODEL_DIR, 'tfidf_vectorizer.pkl')}'\")\n",
        "\n",
        "# Simpan Matriks TF-IDF\n",
        "with open(os.path.join(OUTPUT_MODEL_DIR, 'tfidf_matrix.pkl'), 'wb') as f:\n",
        "    pickle.dump(tfidf_matrix, f)\n",
        "print(f\"\\nTF-IDF Matrix disimpan ke '{os.path.join(OUTPUT_MODEL_DIR, 'tfidf_matrix.pkl')}'\")"
      ]
    },
    {
      "cell_type": "code",
      "execution_count": null,
      "id": "fcfe7f7a",
      "metadata": {},
      "outputs": [
        {
          "name": "stdout",
          "output_type": "stream",
          "text": [
            "\n",
            "--- Memulai Tahap Text Vectorization: S-BERT ---\n"
          ]
        },
        {
          "name": "stderr",
          "output_type": "stream",
          "text": [
            "Batches: 100%|██████████| 36/36 [01:02<00:00,  1.74s/it]\n"
          ]
        },
        {
          "name": "stdout",
          "output_type": "stream",
          "text": [
            "✅ STEP 3.2 - S-BERT Vectorization selesai. Bentuk matriks embeddings: (1138, 384)\n",
            "\n",
            "S-BERT Embeddings disimpan ke 'recommender_models\\sbert_embeddings.pkl'\n",
            "\n",
            "S-BERT Model (object) disimpan ke 'recommender_models\\sbert_model_dir'\n"
          ]
        }
      ],
      "source": [
        "# --- 3.2 Inisialisasi Text Vectorization: S-BERT ---\n",
        "print(\"\\n--- Memulai Tahap Text Vectorization: S-BERT ---\")\n",
        "sbert_model = SentenceTransformer('paraphrase-multilingual-MiniLM-L12-v2') \n",
        "\n",
        "sbert_embeddings = sbert_model.encode(df['job_text_clean'].tolist(), show_progress_bar=True)\n",
        "\n",
        "print(\"\\n✅ STEP 3.2 - S-BERT Vectorization selesai. Bentuk matriks embeddings:\", sbert_embeddings.shape)\n",
        "\n",
        "with open(os.path.join(OUTPUT_MODEL_DIR, 'sbert_embeddings.pkl'), 'wb') as f:\n",
        "    pickle.dump(sbert_embeddings, f)\n",
        "print(f\"\\nS-BERT Embeddings disimpan ke '{os.path.join(OUTPUT_MODEL_DIR, 'sbert_embeddings.pkl')}'\")\n",
        "\n",
        "sbert_model.save_pretrained(os.path.join(OUTPUT_MODEL_DIR, 'sbert_model_dir'))\n",
        "print(f\"\\nS-BERT Model (object) disimpan ke '{os.path.join(OUTPUT_MODEL_DIR, 'sbert_model_dir')}'\")\n"
      ]
    },
    {
      "cell_type": "markdown",
      "id": "48b5b181",
      "metadata": {},
      "source": [
        "# STEP 4: Similarity Mapping"
      ]
    },
    {
      "cell_type": "code",
      "execution_count": 27,
      "id": "85837e55",
      "metadata": {},
      "outputs": [
        {
          "name": "stdout",
          "output_type": "stream",
          "text": [
            "DataFrame untuk rekomendasi disimpan ke 'recommender_models\\df_for_recommendation.pkl'\n",
            "\n",
            "✅ STEP 4.1 - Similarity Mapping tahap persiapan data selesai.\n"
          ]
        }
      ],
      "source": [
        "# --- 4.1 Similarity Mapping tahap persiapan data ---\n",
        "df_for_recommendation = df[['Job Title', 'Company', 'Job Description', 'Qualification', 'job_text_clean']]\n",
        "\n",
        "with open(os.path.join(OUTPUT_MODEL_DIR, 'df_for_recommendation.pkl'), 'wb') as f:\n",
        "    pickle.dump(df_for_recommendation, f)\n",
        "print(f\"DataFrame untuk rekomendasi disimpan ke '{os.path.join(OUTPUT_MODEL_DIR, 'df_for_recommendation.pkl')}'\\n\")\n",
        "print(\"✅ STEP 4.1 - Similarity Mapping tahap persiapan data selesai.\")\n"
      ]
    },
    {
      "cell_type": "code",
      "execution_count": 28,
      "id": "064fe099",
      "metadata": {},
      "outputs": [
        {
          "name": "stdout",
          "output_type": "stream",
          "text": [
            "✅ STEP 4.2 - Fungsi umum untuk kedua model berhasil dimuat\n"
          ]
        }
      ],
      "source": [
        "# --- 4.2 Recommendation Modelling: Fungsi Umum untuk Kedua Model ---\n",
        "def get_job_recommendations(course_description, model_type, num_recommendations=5):\n",
        "    global tfidf_vectorizer, tfidf_matrix, sbert_model, sbert_embeddings, df_for_recommendation\n",
        "\n",
        "    processed_course_text = cleaning_pipeline(course_description)\n",
        "    \n",
        "    if not processed_course_text:\n",
        "        print(\"Peringatan: Deskripsi kursus kosong setelah preprocessing. Tidak dapat memberikan rekomendasi.\")\n",
        "        return pd.DataFrame()\n",
        "\n",
        "    sim_scores = np.array([]) # Inisialisasi sim_scores\n",
        "\n",
        "    if model_type == 'tfidf':\n",
        "        if 'tfidf_vectorizer' not in globals() or 'tfidf_matrix' not in globals():\n",
        "            print(\"Error: TF-IDF model belum dimuat. Pastikan Anda menjalankan skrip ini secara berurutan atau memuat model.\")\n",
        "            return pd.DataFrame()\n",
        "        course_vector = tfidf_vectorizer.transform([processed_course_text])\n",
        "        sim_scores = cosine_similarity(course_vector, tfidf_matrix).flatten()\n",
        "    elif model_type == 'sbert':\n",
        "        if 'sbert_model' not in globals() or 'sbert_embeddings' not in globals():\n",
        "            print(\"Error: S-BERT model atau embeddings belum dimuat. Pastikan Anda menjalankan skrip ini secara berurutan atau memuat model.\")\n",
        "            return pd.DataFrame()\n",
        "        course_vector = sbert_model.encode([processed_course_text])[0]\n",
        "        sim_scores = cosine_similarity(course_vector.reshape(1, -1), sbert_embeddings).flatten()\n",
        "    else:\n",
        "        raise ValueError(\"model_type harus 'tfidf' atau 'sbert'.\")\n",
        "    \n",
        "    if sim_scores.size == 0 or np.all(sim_scores == 0):\n",
        "        print(\"Peringatan: Skor kemiripan semuanya nol atau kosong. Tidak ada rekomendasi yang kuat.\")\n",
        "        return pd.DataFrame()\n",
        "\n",
        "    top_indices = sim_scores.argsort()[-num_recommendations:][::-1]\n",
        "\n",
        "    # Filter out recommendations with 0 similarity score\n",
        "    top_indices = [idx for idx in top_indices if sim_scores[idx] > 0]\n",
        "    \n",
        "    if not top_indices:\n",
        "        return pd.DataFrame()\n",
        "\n",
        "    recommended_jobs = df_for_recommendation.iloc[top_indices].copy()\n",
        "    recommended_jobs['Similarity_Score'] = sim_scores[top_indices]\n",
        "\n",
        "    return recommended_jobs[['Job Title', 'Company', 'Job Description', 'Qualification', 'Similarity_Score']]\n",
        "\n",
        "print(\"✅ STEP 4.2 - Fungsi umum untuk kedua model berhasil dimuat\")"
      ]
    },
    {
      "cell_type": "code",
      "execution_count": 29,
      "id": "ca282a6f",
      "metadata": {},
      "outputs": [
        {
          "name": "stdout",
          "output_type": "stream",
          "text": [
            "✅ STEP 4.3 - Contoh Penggunaan & Perbandingan Model\n",
            "\n",
            "Query: Saya baru saja menyelesaikan kursus mendalam tentang UI/UX Designer, saya memahami dengan baik metode design thinking\n",
            "\n",
            "--- Rekomendasi dengan TF-IDF ---\n",
            "                    Job Title               Company                                    Job Description                                      Qualification  Similarity_Score\n",
            "712  Quality Assurance Tester             ORDO Apps                                    Tanggung Jawab:  Pemahaman mendalam mengenai Quality Assurance ...          0.212084\n",
            "304            UI/UX Designer  Pintar Ventura Group  We are building Klikoo, a digital financial so...  2–4 years of experience as a UI/UX Designer (s...          0.197519\n",
            "155          Product Designer          Tentang Anak  Role Overview:\\nA Product Designer will suppor...  4-6 years of experience as a UI/UX Designer, P...          0.192081\n",
            "\n",
            "\n",
            "\n",
            "--- Rekomendasi dengan S-BERT ---\n",
            "                     Job Title                   Company                                    Job Description                                      Qualification  Similarity_Score\n",
            "282             UI/UX Designer  PT Node Solusi Teknologi  Mengilustrasikan ide melalui storyboard, alur ...  Pendidikan minimal SMA/SMK sederajat.\\nMemilik...          0.595832\n",
            "315             UI/UX Designer                 ORDO Apps  Riset & Analisis\\nWireframing & Prototyping\\nD...  Figma (utama).\\nAdobe Illustrator (optional)\\n...          0.593393\n",
            "369  Internship UI/UX Designer          PT Qtera Mandiri  Membantu design website dan aplikasi yang dibu...  Mahasiswa aktif atau fresh graduate dari jurus...          0.580533\n"
          ]
        }
      ],
      "source": [
        "# --- 4.3 Contoh Penggunaan dan Perbandingan ---\n",
        "print(\"✅ STEP 4.3 - Contoh Penggunaan & Perbandingan Model\")\n",
        "test_course_desc = \"Saya baru saja menyelesaikan kursus mendalam tentang UI/UX Designer, saya memahami dengan baik metode design thinking\"\n",
        "\n",
        "print(f\"\\nQuery: {test_course_desc}\")\n",
        "\n",
        "# Rekomendasi menggunakan TF-IDF\n",
        "print(\"\\n--- Rekomendasi dengan TF-IDF ---\")\n",
        "recommended_jobs_tfidf = get_job_recommendations(\n",
        "    test_course_desc,\n",
        "    model_type='tfidf',\n",
        "    num_recommendations=3\n",
        ")\n",
        "if not recommended_jobs_tfidf.empty:\n",
        "    print(recommended_jobs_tfidf)\n",
        "else:\n",
        "    print(\"Tidak ada rekomendasi TF-IDF ditemukan.\")\n",
        "\n",
        "# Rekomendasi menggunakan S-BERT\n",
        "print(\"\\n\\n\\n--- Rekomendasi dengan S-BERT ---\")\n",
        "recommended_jobs_sbert = get_job_recommendations(\n",
        "    test_course_desc,\n",
        "    model_type='sbert',\n",
        "    num_recommendations=3\n",
        ")\n",
        "if not recommended_jobs_sbert.empty:\n",
        "    print(recommended_jobs_sbert)\n",
        "else:\n",
        "    print(\"Tidak ada rekomendasi S-BERT ditemukan.\")"
      ]
    },
    {
      "cell_type": "code",
      "execution_count": 31,
      "id": "7219b6ee",
      "metadata": {},
      "outputs": [
        {
          "name": "stdout",
          "output_type": "stream",
          "text": [
            "\n",
            "--- Membuat Contoh Output JSON untuk Front-End ---\n",
            "Menghasilkan rekomendasi untuk: Saya baru saja menyelesaikan kursus mendalam tentang machine learning menggunakan Python, scikit-learn, dan TensorFlow. Saya juga mempelajari deep learning dan natural language processing.\n",
            "Menghasilkan rekomendasi untuk: Saya memiliki sertifikasi AWS Solutions Architect dan ingin mencari pekerjaan terkait infrastruktur cloud.\n",
            "Menghasilkan rekomendasi untuk: Saya belajar tentang manajemen produk, desain UX/UI, dan metodologi Agile.\n",
            "\n",
            "Contoh output JSON rekomendasi disimpan ke 'PP_MLOps_Nurul Ainil Fitri_Pricillia Silfany_Output.json'\n",
            "\n",
            "Pelatihan model dan pembuatan output JSON selesai.\n"
          ]
        }
      ],
      "source": [
        "# --- Membuat Contoh Output JSON untuk Front-End ---\n",
        "print(\"\\n--- Membuat Contoh Output JSON untuk Front-End ---\")\n",
        "\n",
        "# Definisikan beberapa query contoh\n",
        "example_queries = [\n",
        "    \"Saya baru saja menyelesaikan kursus mendalam tentang machine learning menggunakan Python, scikit-learn, dan TensorFlow. Saya juga mempelajari deep learning dan natural language processing.\",\n",
        "    \"Saya memiliki sertifikasi AWS Solutions Architect dan ingin mencari pekerjaan terkait infrastruktur cloud.\",\n",
        "    \"Saya belajar tentang manajemen produk, desain UX/UI, dan metodologi Agile.\"\n",
        "]\n",
        "\n",
        "all_example_recommendations = {}\n",
        "\n",
        "for i, query in enumerate(example_queries):\n",
        "    print(f\"Menghasilkan rekomendasi untuk: {query}\")\n",
        "    # Gunakan model S-BERT karena Anda memutuskan untuk fokus padanya\n",
        "    recs = get_job_recommendations(\n",
        "        query,\n",
        "        model_type='sbert', \n",
        "        num_recommendations=5 # Total jumlah rekomendasi per query\n",
        "    )\n",
        "    if not recs.empty:\n",
        "        # Konversi DataFrame ke list of dictionaries, lalu ke string JSON\n",
        "        all_example_recommendations[f\"query_{i+1}\"] = {\n",
        "            \"query_text\": query,\n",
        "            \"recommendations\": recs.to_dict(orient='records')\n",
        "        }\n",
        "    else:\n",
        "        all_example_recommendations[f\"query_{i+1}\"] = {\n",
        "            \"query_text\": query,\n",
        "            \"recommendations\": []\n",
        "        }\n",
        "\n",
        "# Simpan semua contoh rekomendasi ke file JSON\n",
        "OUTPUT_JSON_FILE_NAME = 'PP_MLOps_Nurul Ainil Fitri_Pricillia Silfany_Output.json'\n",
        "with open(OUTPUT_JSON_FILE_NAME, 'w', encoding='utf-8') as f:\n",
        "    json.dump(all_example_recommendations, f, indent=4, ensure_ascii=False)\n",
        "print(f\"\\nContoh output JSON rekomendasi disimpan ke '{OUTPUT_JSON_FILE_NAME}'\")\n",
        "\n",
        "print(\"\\nPelatihan model dan pembuatan output JSON selesai.\")"
      ]
    }
  ],
  "metadata": {
    "colab": {
      "provenance": []
    },
    "kernelspec": {
      "display_name": "Python 3",
      "language": "python",
      "name": "python3"
    },
    "language_info": {
      "codemirror_mode": {
        "name": "ipython",
        "version": 3
      },
      "file_extension": ".py",
      "mimetype": "text/x-python",
      "name": "python",
      "nbconvert_exporter": "python",
      "pygments_lexer": "ipython3",
      "version": "3.11.9"
    },
    "widgets": {
      "application/vnd.jupyter.widget-state+json": {
        "05c79f3b429342289c5f5332a52e2201": {
          "model_module": "@jupyter-widgets/controls",
          "model_module_version": "1.5.0",
          "model_name": "HTMLModel",
          "state": {
            "_dom_classes": [],
            "_model_module": "@jupyter-widgets/controls",
            "_model_module_version": "1.5.0",
            "_model_name": "HTMLModel",
            "_view_count": null,
            "_view_module": "@jupyter-widgets/controls",
            "_view_module_version": "1.5.0",
            "_view_name": "HTMLView",
            "description": "",
            "description_tooltip": null,
            "layout": "IPY_MODEL_809865e1dbe94ed1aaf8be929b278885",
            "placeholder": "​",
            "style": "IPY_MODEL_d618fe699fd74542a45ab432f6bf97bf",
            "value": " 4134/4134 [24:22&lt;00:00,  4.06it/s]"
          }
        },
        "310810b268ad40389e276d63fae66f68": {
          "model_module": "@jupyter-widgets/controls",
          "model_module_version": "1.5.0",
          "model_name": "DescriptionStyleModel",
          "state": {
            "_model_module": "@jupyter-widgets/controls",
            "_model_module_version": "1.5.0",
            "_model_name": "DescriptionStyleModel",
            "_view_count": null,
            "_view_module": "@jupyter-widgets/base",
            "_view_module_version": "1.2.0",
            "_view_name": "StyleView",
            "description_width": ""
          }
        },
        "465b6070f3ad4ee4bbccaaee51c94423": {
          "model_module": "@jupyter-widgets/base",
          "model_module_version": "1.2.0",
          "model_name": "LayoutModel",
          "state": {
            "_model_module": "@jupyter-widgets/base",
            "_model_module_version": "1.2.0",
            "_model_name": "LayoutModel",
            "_view_count": null,
            "_view_module": "@jupyter-widgets/base",
            "_view_module_version": "1.2.0",
            "_view_name": "LayoutView",
            "align_content": null,
            "align_items": null,
            "align_self": null,
            "border": null,
            "bottom": null,
            "display": null,
            "flex": null,
            "flex_flow": null,
            "grid_area": null,
            "grid_auto_columns": null,
            "grid_auto_flow": null,
            "grid_auto_rows": null,
            "grid_column": null,
            "grid_gap": null,
            "grid_row": null,
            "grid_template_areas": null,
            "grid_template_columns": null,
            "grid_template_rows": null,
            "height": null,
            "justify_content": null,
            "justify_items": null,
            "left": null,
            "margin": null,
            "max_height": null,
            "max_width": null,
            "min_height": null,
            "min_width": null,
            "object_fit": null,
            "object_position": null,
            "order": null,
            "overflow": null,
            "overflow_x": null,
            "overflow_y": null,
            "padding": null,
            "right": null,
            "top": null,
            "visibility": null,
            "width": null
          }
        },
        "59450a5000b949c6be6e2368c2df6359": {
          "model_module": "@jupyter-widgets/controls",
          "model_module_version": "1.5.0",
          "model_name": "HTMLModel",
          "state": {
            "_dom_classes": [],
            "_model_module": "@jupyter-widgets/controls",
            "_model_module_version": "1.5.0",
            "_model_name": "HTMLModel",
            "_view_count": null,
            "_view_module": "@jupyter-widgets/controls",
            "_view_module_version": "1.5.0",
            "_view_name": "HTMLView",
            "description": "",
            "description_tooltip": null,
            "layout": "IPY_MODEL_465b6070f3ad4ee4bbccaaee51c94423",
            "placeholder": "​",
            "style": "IPY_MODEL_310810b268ad40389e276d63fae66f68",
            "value": "Pandas Apply: 100%"
          }
        },
        "611f926f88174167bea8ce6570159046": {
          "model_module": "@jupyter-widgets/controls",
          "model_module_version": "1.5.0",
          "model_name": "HBoxModel",
          "state": {
            "_dom_classes": [],
            "_model_module": "@jupyter-widgets/controls",
            "_model_module_version": "1.5.0",
            "_model_name": "HBoxModel",
            "_view_count": null,
            "_view_module": "@jupyter-widgets/controls",
            "_view_module_version": "1.5.0",
            "_view_name": "HBoxView",
            "box_style": "",
            "children": [
              "IPY_MODEL_59450a5000b949c6be6e2368c2df6359",
              "IPY_MODEL_ddef24efdfab4b08ae2ae8ed7bf4f7d1",
              "IPY_MODEL_05c79f3b429342289c5f5332a52e2201"
            ],
            "layout": "IPY_MODEL_6c8d60e434e849ffb097f27a11fd05c0"
          }
        },
        "6c8d60e434e849ffb097f27a11fd05c0": {
          "model_module": "@jupyter-widgets/base",
          "model_module_version": "1.2.0",
          "model_name": "LayoutModel",
          "state": {
            "_model_module": "@jupyter-widgets/base",
            "_model_module_version": "1.2.0",
            "_model_name": "LayoutModel",
            "_view_count": null,
            "_view_module": "@jupyter-widgets/base",
            "_view_module_version": "1.2.0",
            "_view_name": "LayoutView",
            "align_content": null,
            "align_items": null,
            "align_self": null,
            "border": null,
            "bottom": null,
            "display": null,
            "flex": null,
            "flex_flow": null,
            "grid_area": null,
            "grid_auto_columns": null,
            "grid_auto_flow": null,
            "grid_auto_rows": null,
            "grid_column": null,
            "grid_gap": null,
            "grid_row": null,
            "grid_template_areas": null,
            "grid_template_columns": null,
            "grid_template_rows": null,
            "height": null,
            "justify_content": null,
            "justify_items": null,
            "left": null,
            "margin": null,
            "max_height": null,
            "max_width": null,
            "min_height": null,
            "min_width": null,
            "object_fit": null,
            "object_position": null,
            "order": null,
            "overflow": null,
            "overflow_x": null,
            "overflow_y": null,
            "padding": null,
            "right": null,
            "top": null,
            "visibility": null,
            "width": null
          }
        },
        "809865e1dbe94ed1aaf8be929b278885": {
          "model_module": "@jupyter-widgets/base",
          "model_module_version": "1.2.0",
          "model_name": "LayoutModel",
          "state": {
            "_model_module": "@jupyter-widgets/base",
            "_model_module_version": "1.2.0",
            "_model_name": "LayoutModel",
            "_view_count": null,
            "_view_module": "@jupyter-widgets/base",
            "_view_module_version": "1.2.0",
            "_view_name": "LayoutView",
            "align_content": null,
            "align_items": null,
            "align_self": null,
            "border": null,
            "bottom": null,
            "display": null,
            "flex": null,
            "flex_flow": null,
            "grid_area": null,
            "grid_auto_columns": null,
            "grid_auto_flow": null,
            "grid_auto_rows": null,
            "grid_column": null,
            "grid_gap": null,
            "grid_row": null,
            "grid_template_areas": null,
            "grid_template_columns": null,
            "grid_template_rows": null,
            "height": null,
            "justify_content": null,
            "justify_items": null,
            "left": null,
            "margin": null,
            "max_height": null,
            "max_width": null,
            "min_height": null,
            "min_width": null,
            "object_fit": null,
            "object_position": null,
            "order": null,
            "overflow": null,
            "overflow_x": null,
            "overflow_y": null,
            "padding": null,
            "right": null,
            "top": null,
            "visibility": null,
            "width": null
          }
        },
        "9be307f2064b4f8f88a9f7ce31f8a990": {
          "model_module": "@jupyter-widgets/base",
          "model_module_version": "1.2.0",
          "model_name": "LayoutModel",
          "state": {
            "_model_module": "@jupyter-widgets/base",
            "_model_module_version": "1.2.0",
            "_model_name": "LayoutModel",
            "_view_count": null,
            "_view_module": "@jupyter-widgets/base",
            "_view_module_version": "1.2.0",
            "_view_name": "LayoutView",
            "align_content": null,
            "align_items": null,
            "align_self": null,
            "border": null,
            "bottom": null,
            "display": null,
            "flex": null,
            "flex_flow": null,
            "grid_area": null,
            "grid_auto_columns": null,
            "grid_auto_flow": null,
            "grid_auto_rows": null,
            "grid_column": null,
            "grid_gap": null,
            "grid_row": null,
            "grid_template_areas": null,
            "grid_template_columns": null,
            "grid_template_rows": null,
            "height": null,
            "justify_content": null,
            "justify_items": null,
            "left": null,
            "margin": null,
            "max_height": null,
            "max_width": null,
            "min_height": null,
            "min_width": null,
            "object_fit": null,
            "object_position": null,
            "order": null,
            "overflow": null,
            "overflow_x": null,
            "overflow_y": null,
            "padding": null,
            "right": null,
            "top": null,
            "visibility": null,
            "width": null
          }
        },
        "d618fe699fd74542a45ab432f6bf97bf": {
          "model_module": "@jupyter-widgets/controls",
          "model_module_version": "1.5.0",
          "model_name": "DescriptionStyleModel",
          "state": {
            "_model_module": "@jupyter-widgets/controls",
            "_model_module_version": "1.5.0",
            "_model_name": "DescriptionStyleModel",
            "_view_count": null,
            "_view_module": "@jupyter-widgets/base",
            "_view_module_version": "1.2.0",
            "_view_name": "StyleView",
            "description_width": ""
          }
        },
        "d6e7afc115f443d9b99c2f57d7203c62": {
          "model_module": "@jupyter-widgets/controls",
          "model_module_version": "1.5.0",
          "model_name": "ProgressStyleModel",
          "state": {
            "_model_module": "@jupyter-widgets/controls",
            "_model_module_version": "1.5.0",
            "_model_name": "ProgressStyleModel",
            "_view_count": null,
            "_view_module": "@jupyter-widgets/base",
            "_view_module_version": "1.2.0",
            "_view_name": "StyleView",
            "bar_color": null,
            "description_width": ""
          }
        },
        "ddef24efdfab4b08ae2ae8ed7bf4f7d1": {
          "model_module": "@jupyter-widgets/controls",
          "model_module_version": "1.5.0",
          "model_name": "FloatProgressModel",
          "state": {
            "_dom_classes": [],
            "_model_module": "@jupyter-widgets/controls",
            "_model_module_version": "1.5.0",
            "_model_name": "FloatProgressModel",
            "_view_count": null,
            "_view_module": "@jupyter-widgets/controls",
            "_view_module_version": "1.5.0",
            "_view_name": "ProgressView",
            "bar_style": "success",
            "description": "",
            "description_tooltip": null,
            "layout": "IPY_MODEL_9be307f2064b4f8f88a9f7ce31f8a990",
            "max": 4134,
            "min": 0,
            "orientation": "horizontal",
            "style": "IPY_MODEL_d6e7afc115f443d9b99c2f57d7203c62",
            "value": 4134
          }
        }
      }
    }
  },
  "nbformat": 4,
  "nbformat_minor": 5
}
