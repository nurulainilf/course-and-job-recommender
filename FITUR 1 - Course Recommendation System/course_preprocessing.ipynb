{
 "cells": [
  {
   "cell_type": "code",
   "execution_count": 1,
   "id": "2c129a44",
   "metadata": {},
   "outputs": [
    {
     "name": "stderr",
     "output_type": "stream",
     "text": [
      "C:\\Users\\Windows10\\AppData\\Roaming\\Python\\Python313\\site-packages\\tqdm\\auto.py:21: TqdmWarning: IProgress not found. Please update jupyter and ipywidgets. See https://ipywidgets.readthedocs.io/en/stable/user_install.html\n",
      "  from .autonotebook import tqdm as notebook_tqdm\n"
     ]
    }
   ],
   "source": [
    "import pandas as pd\n",
    "import ftfy\n",
    "import spacy\n",
    "from sentence_transformers import SentenceTransformer\n",
    "from sklearn.metrics.pairwise import cosine_similarity\n",
    "import ast\n",
    "import pickle"
   ]
  },
  {
   "cell_type": "markdown",
   "id": "6bf1d092",
   "metadata": {},
   "source": [
    "## Cleaning Data"
   ]
  },
  {
   "cell_type": "code",
   "execution_count": 2,
   "id": "ae5770ea",
   "metadata": {},
   "outputs": [
    {
     "data": {
      "text/html": [
       "<div>\n",
       "<style scoped>\n",
       "    .dataframe tbody tr th:only-of-type {\n",
       "        vertical-align: middle;\n",
       "    }\n",
       "\n",
       "    .dataframe tbody tr th {\n",
       "        vertical-align: top;\n",
       "    }\n",
       "\n",
       "    .dataframe thead th {\n",
       "        text-align: right;\n",
       "    }\n",
       "</style>\n",
       "<table border=\"1\" class=\"dataframe\">\n",
       "  <thead>\n",
       "    <tr style=\"text-align: right;\">\n",
       "      <th></th>\n",
       "      <th>Title</th>\n",
       "      <th>Institution</th>\n",
       "      <th>Metadata</th>\n",
       "      <th>Rating</th>\n",
       "      <th>Skills</th>\n",
       "      <th>Description</th>\n",
       "      <th>Link</th>\n",
       "      <th>Category</th>\n",
       "      <th>Subcategory</th>\n",
       "      <th>Modules Name</th>\n",
       "      <th>Modules Description</th>\n",
       "    </tr>\n",
       "  </thead>\n",
       "  <tbody>\n",
       "    <tr>\n",
       "      <th>0</th>\n",
       "      <td>.NET FullStack Developer</td>\n",
       "      <td>Board Infinity</td>\n",
       "      <td>Intermediate · Specialization · 1 - 3 Months</td>\n",
       "      <td>4.1</td>\n",
       "      <td>HTML and CSS, Web Services, Javascript, Micros...</td>\n",
       "      <td>Build Fullstack webapp with .NET technologies....</td>\n",
       "      <td>https://www.coursera.org/specializations/dot-n...</td>\n",
       "      <td>Computer Science</td>\n",
       "      <td>Mobile and Web Development</td>\n",
       "      <td>['.Net Full Stack Foundation', 'Frontend Devel...</td>\n",
       "      <td>['Build dynamic web applications using ASP.NET...</td>\n",
       "    </tr>\n",
       "    <tr>\n",
       "      <th>1</th>\n",
       "      <td>3D Interaction Design in Virtual Reality</td>\n",
       "      <td>University of London</td>\n",
       "      <td>Intermediate · Course · 1 - 4 Weeks</td>\n",
       "      <td>4.6</td>\n",
       "      <td>Prototyping, Human Computer Interaction, Usabi...</td>\n",
       "      <td>This course is part ofVirtual Reality Speciali...</td>\n",
       "      <td>https://www.coursera.org/learn/3d-interaction-...</td>\n",
       "      <td>Computer Science</td>\n",
       "      <td>Design and Product</td>\n",
       "      <td>['Interaction in VR', 'Moving around in VR', '...</td>\n",
       "      <td>[\"Welcome to Week 1! In this week, we will cov...</td>\n",
       "    </tr>\n",
       "    <tr>\n",
       "      <th>2</th>\n",
       "      <td>3D Modeling for 3D Printing and Laser Cutting ...</td>\n",
       "      <td>Packt</td>\n",
       "      <td>Intermediate · Course · 1 - 3 Months</td>\n",
       "      <td>5.0</td>\n",
       "      <td>Autodesk, Engineering Tolerance, Visualization...</td>\n",
       "      <td>Instructor:Packt - Course Instructors</td>\n",
       "      <td>https://www.coursera.org/learn/packt-3d-modeli...</td>\n",
       "      <td>Physical Science and Engineering</td>\n",
       "      <td>Mechanical Engineering</td>\n",
       "      <td>['Getting started', '3D Modeling Fundamentals'...</td>\n",
       "      <td>['In this module, we will explore the foundati...</td>\n",
       "    </tr>\n",
       "    <tr>\n",
       "      <th>3</th>\n",
       "      <td>3D Printing and Additive Manufacturing</td>\n",
       "      <td>University of Illinois Urbana-Champaign</td>\n",
       "      <td>Beginner · Specialization · 3 - 6 Months</td>\n",
       "      <td>4.6</td>\n",
       "      <td>3D Modeling, Hardware Troubleshooting, Design ...</td>\n",
       "      <td>Turn Your Ideas into Objects with 3D Printing....</td>\n",
       "      <td>https://www.coursera.org/specializations/3d-pr...</td>\n",
       "      <td>Computer Science</td>\n",
       "      <td>Design and Product</td>\n",
       "      <td>['The 3D Printing Revolution', '3D Printing Ap...</td>\n",
       "      <td>['Obtain a rich understanding of 3D printing, ...</td>\n",
       "    </tr>\n",
       "    <tr>\n",
       "      <th>4</th>\n",
       "      <td>3D Printing Hardware</td>\n",
       "      <td>University of Illinois Urbana-Champaign</td>\n",
       "      <td>Beginner · Course · 1 - 3 Months</td>\n",
       "      <td>4.2</td>\n",
       "      <td>Electronic Components, Hardware Design, Manufa...</td>\n",
       "      <td>This course is part of3D Printing and Additive...</td>\n",
       "      <td>https://www.coursera.org/learn/3d-print-hardware</td>\n",
       "      <td>Business</td>\n",
       "      <td>Entrepreneurship</td>\n",
       "      <td>['Course Orientation &amp; Module 1 Origins of Des...</td>\n",
       "      <td>['In this welcome module, you will become fami...</td>\n",
       "    </tr>\n",
       "  </tbody>\n",
       "</table>\n",
       "</div>"
      ],
      "text/plain": [
       "                                               Title  \\\n",
       "0                           .NET FullStack Developer   \n",
       "1           3D Interaction Design in Virtual Reality   \n",
       "2  3D Modeling for 3D Printing and Laser Cutting ...   \n",
       "3             3D Printing and Additive Manufacturing   \n",
       "4                               3D Printing Hardware   \n",
       "\n",
       "                               Institution  \\\n",
       "0                           Board Infinity   \n",
       "1                     University of London   \n",
       "2                                    Packt   \n",
       "3  University of Illinois Urbana-Champaign   \n",
       "4  University of Illinois Urbana-Champaign   \n",
       "\n",
       "                                       Metadata  Rating  \\\n",
       "0  Intermediate · Specialization · 1 - 3 Months     4.1   \n",
       "1           Intermediate · Course · 1 - 4 Weeks     4.6   \n",
       "2          Intermediate · Course · 1 - 3 Months     5.0   \n",
       "3      Beginner · Specialization · 3 - 6 Months     4.6   \n",
       "4              Beginner · Course · 1 - 3 Months     4.2   \n",
       "\n",
       "                                              Skills  \\\n",
       "0  HTML and CSS, Web Services, Javascript, Micros...   \n",
       "1  Prototyping, Human Computer Interaction, Usabi...   \n",
       "2  Autodesk, Engineering Tolerance, Visualization...   \n",
       "3  3D Modeling, Hardware Troubleshooting, Design ...   \n",
       "4  Electronic Components, Hardware Design, Manufa...   \n",
       "\n",
       "                                         Description  \\\n",
       "0  Build Fullstack webapp with .NET technologies....   \n",
       "1  This course is part ofVirtual Reality Speciali...   \n",
       "2              Instructor:Packt - Course Instructors   \n",
       "3  Turn Your Ideas into Objects with 3D Printing....   \n",
       "4  This course is part of3D Printing and Additive...   \n",
       "\n",
       "                                                Link  \\\n",
       "0  https://www.coursera.org/specializations/dot-n...   \n",
       "1  https://www.coursera.org/learn/3d-interaction-...   \n",
       "2  https://www.coursera.org/learn/packt-3d-modeli...   \n",
       "3  https://www.coursera.org/specializations/3d-pr...   \n",
       "4   https://www.coursera.org/learn/3d-print-hardware   \n",
       "\n",
       "                           Category                 Subcategory  \\\n",
       "0                  Computer Science  Mobile and Web Development   \n",
       "1                  Computer Science          Design and Product   \n",
       "2  Physical Science and Engineering      Mechanical Engineering   \n",
       "3                  Computer Science          Design and Product   \n",
       "4                          Business            Entrepreneurship   \n",
       "\n",
       "                                        Modules Name  \\\n",
       "0  ['.Net Full Stack Foundation', 'Frontend Devel...   \n",
       "1  ['Interaction in VR', 'Moving around in VR', '...   \n",
       "2  ['Getting started', '3D Modeling Fundamentals'...   \n",
       "3  ['The 3D Printing Revolution', '3D Printing Ap...   \n",
       "4  ['Course Orientation & Module 1 Origins of Des...   \n",
       "\n",
       "                                 Modules Description  \n",
       "0  ['Build dynamic web applications using ASP.NET...  \n",
       "1  [\"Welcome to Week 1! In this week, we will cov...  \n",
       "2  ['In this module, we will explore the foundati...  \n",
       "3  ['Obtain a rich understanding of 3D printing, ...  \n",
       "4  ['In this welcome module, you will become fami...  "
      ]
     },
     "execution_count": 2,
     "metadata": {},
     "output_type": "execute_result"
    }
   ],
   "source": [
    "df = pd.read_csv('data/courses_data_raw.csv') \n",
    "df.head()"
   ]
  },
  {
   "cell_type": "code",
   "execution_count": 3,
   "id": "8b7e5663",
   "metadata": {},
   "outputs": [
    {
     "name": "stdout",
     "output_type": "stream",
     "text": [
      "Total duplicate rows: 0\n"
     ]
    }
   ],
   "source": [
    "duplicate_count = df.duplicated().sum()\n",
    "print(\"Total duplicate rows:\", duplicate_count)"
   ]
  },
  {
   "cell_type": "markdown",
   "id": "0d0c5ed2",
   "metadata": {},
   "source": [
    "The Metadata column contains three attributes such as Level, Type, and Duration which are separated by a dot symbol (·). To ensure that all three attributes are present, each row must contain exactly two dots."
   ]
  },
  {
   "cell_type": "code",
   "execution_count": 4,
   "id": "910ab589",
   "metadata": {},
   "outputs": [
    {
     "data": {
      "text/html": [
       "<div>\n",
       "<style scoped>\n",
       "    .dataframe tbody tr th:only-of-type {\n",
       "        vertical-align: middle;\n",
       "    }\n",
       "\n",
       "    .dataframe tbody tr th {\n",
       "        vertical-align: top;\n",
       "    }\n",
       "\n",
       "    .dataframe thead th {\n",
       "        text-align: right;\n",
       "    }\n",
       "</style>\n",
       "<table border=\"1\" class=\"dataframe\">\n",
       "  <thead>\n",
       "    <tr style=\"text-align: right;\">\n",
       "      <th></th>\n",
       "      <th>Title</th>\n",
       "      <th>Institution</th>\n",
       "      <th>Metadata</th>\n",
       "      <th>Rating</th>\n",
       "      <th>Skills</th>\n",
       "      <th>Description</th>\n",
       "      <th>Link</th>\n",
       "      <th>Category</th>\n",
       "      <th>Subcategory</th>\n",
       "      <th>Modules Name</th>\n",
       "      <th>Modules Description</th>\n",
       "    </tr>\n",
       "  </thead>\n",
       "  <tbody>\n",
       "    <tr>\n",
       "      <th>66</th>\n",
       "      <td>Advanced iOS Development</td>\n",
       "      <td>Meta</td>\n",
       "      <td>Beginner · Course</td>\n",
       "      <td>NaN</td>\n",
       "      <td>NaN</td>\n",
       "      <td>Instructor:Taught by Meta Staff</td>\n",
       "      <td>https://www.coursera.org/learn/advanced-ios-de...</td>\n",
       "      <td>Computer Science</td>\n",
       "      <td>Mobile and Web Development</td>\n",
       "      <td>['When will I have access to the lectures and ...</td>\n",
       "      <td>['']</td>\n",
       "    </tr>\n",
       "    <tr>\n",
       "      <th>217</th>\n",
       "      <td>Android Mobile Lifecycle and Software Developm...</td>\n",
       "      <td>Meta</td>\n",
       "      <td>Beginner · Course</td>\n",
       "      <td>NaN</td>\n",
       "      <td>NaN</td>\n",
       "      <td>Instructor:Taught by Meta Staff</td>\n",
       "      <td>https://www.coursera.org/learn/android-mobile-...</td>\n",
       "      <td>Computer Science</td>\n",
       "      <td>Mobile and Web Development</td>\n",
       "      <td>['When will I have access to the lectures and ...</td>\n",
       "      <td>['']</td>\n",
       "    </tr>\n",
       "  </tbody>\n",
       "</table>\n",
       "</div>"
      ],
      "text/plain": [
       "                                                 Title Institution  \\\n",
       "66                            Advanced iOS Development        Meta   \n",
       "217  Android Mobile Lifecycle and Software Developm...        Meta   \n",
       "\n",
       "              Metadata  Rating Skills                      Description  \\\n",
       "66   Beginner · Course     NaN    NaN  Instructor:Taught by Meta Staff   \n",
       "217  Beginner · Course     NaN    NaN  Instructor:Taught by Meta Staff   \n",
       "\n",
       "                                                  Link          Category  \\\n",
       "66   https://www.coursera.org/learn/advanced-ios-de...  Computer Science   \n",
       "217  https://www.coursera.org/learn/android-mobile-...  Computer Science   \n",
       "\n",
       "                    Subcategory  \\\n",
       "66   Mobile and Web Development   \n",
       "217  Mobile and Web Development   \n",
       "\n",
       "                                          Modules Name Modules Description  \n",
       "66   ['When will I have access to the lectures and ...                ['']  \n",
       "217  ['When will I have access to the lectures and ...                ['']  "
      ]
     },
     "execution_count": 4,
     "metadata": {},
     "output_type": "execute_result"
    }
   ],
   "source": [
    "df[df['Metadata'].str.count('·') == 1]"
   ]
  },
  {
   "cell_type": "markdown",
   "id": "e41cf384",
   "metadata": {},
   "source": [
    "Rows with only one dot indicate that one of the attributes is missing or the format is incomplete. Therefore, these rows are removed to maintain data consistency."
   ]
  },
  {
   "cell_type": "code",
   "execution_count": 5,
   "id": "9f6e3b8e",
   "metadata": {},
   "outputs": [],
   "source": [
    "df = df[df['Metadata'].str.count('·') != 1]"
   ]
  },
  {
   "cell_type": "markdown",
   "id": "d90ddc40",
   "metadata": {},
   "source": [
    "The value in Metadata column is splitted into three attributes: Level, Type, and Duration, using the dot (·) as a separator."
   ]
  },
  {
   "cell_type": "code",
   "execution_count": 6,
   "id": "946ed44f",
   "metadata": {},
   "outputs": [],
   "source": [
    "# Known levels\n",
    "levels = ['Beginner', 'Intermediate', 'Advanced', 'Mixed']\n",
    "\n",
    "# Split metadata by '·' and strip whitespace\n",
    "df['Metadata_Split'] = df['Metadata'].str.split('·').apply(lambda x: [i.strip() for i in x])\n",
    "\n",
    "# Extract Level\n",
    "df['Level'] = df['Metadata_Split'].apply(lambda parts: next((p for p in parts if p in levels), None))\n",
    "\n",
    "# Extract Duration\n",
    "df['Duration'] = df['Metadata_Split'].apply(lambda parts: next((p for p in parts if any(c.isdigit() for c in p)), None))\n",
    "\n",
    "# Extract Type\n",
    "df['Type'] = df['Metadata_Split'].apply(\n",
    "    lambda parts: next((p for p in parts if p not in levels and not any(c.isdigit() for c in p)), None)\n",
    ")\n",
    "df = df.drop(['Metadata', 'Metadata_Split'], axis=1)"
   ]
  },
  {
   "cell_type": "code",
   "execution_count": 7,
   "id": "0588271f",
   "metadata": {},
   "outputs": [
    {
     "data": {
      "text/plain": [
       "Title                    0\n",
       "Institution              0\n",
       "Rating                 871\n",
       "Skills                   2\n",
       "Description              0\n",
       "Link                     0\n",
       "Category                 0\n",
       "Subcategory              0\n",
       "Modules Name             0\n",
       "Modules Description      0\n",
       "Level                    0\n",
       "Duration                 0\n",
       "Type                     0\n",
       "dtype: int64"
      ]
     },
     "execution_count": 7,
     "metadata": {},
     "output_type": "execute_result"
    }
   ],
   "source": [
    "# Check NaN or empty values\n",
    "df.apply(lambda col: ((col.isna()) | (col == '')).sum())"
   ]
  },
  {
   "cell_type": "code",
   "execution_count": 8,
   "id": "37ef4747",
   "metadata": {},
   "outputs": [],
   "source": [
    "df = df.dropna(subset=['Skills'])"
   ]
  },
  {
   "cell_type": "code",
   "execution_count": 9,
   "id": "bd69274f",
   "metadata": {},
   "outputs": [],
   "source": [
    "# Clean description text\n",
    "df['Description'] = df['Description'].str.replace(\n",
    "    r'(This course is part of)(\\S)', r'\\1 \\2', regex=True\n",
    ")\n",
    "df['Description'] = df['Description'].apply(\n",
    "    lambda x: '' if isinstance(x, str) and x.startswith('Instructors:') else x\n",
    ")\n",
    "df['Description'] = df['Description'].apply(\n",
    "    lambda x: '' if isinstance(x, str) and x.startswith('Instructor:') else x\n",
    ")\n",
    "df['Description'] = df['Description'].str.replace(\n",
    "    r'\\.?\\s*Learn more$', '', regex=True\n",
    ")"
   ]
  },
  {
   "cell_type": "code",
   "execution_count": 10,
   "id": "b8da7959",
   "metadata": {},
   "outputs": [],
   "source": [
    "df['Rating'] = df['Rating'].apply(lambda x: 'No rating' if pd.isna(x) else x)\n",
    "df['Description'] = df['Description'].apply(lambda x: 'No Description' if pd.isna(x) else x)"
   ]
  },
  {
   "cell_type": "code",
   "execution_count": 11,
   "id": "9e04cd2a",
   "metadata": {},
   "outputs": [
    {
     "name": "stderr",
     "output_type": "stream",
     "text": [
      "C:\\Users\\Windows10\\AppData\\Local\\Temp\\ipykernel_32996\\2289325212.py:2: FutureWarning: DataFrame.applymap has been deprecated. Use DataFrame.map instead.\n",
      "  df = df.applymap(lambda x: ftfy.fix_text(x) if isinstance(x, str) else x)\n"
     ]
    }
   ],
   "source": [
    "# Fix encoding issues\n",
    "df = df.applymap(lambda x: ftfy.fix_text(x) if isinstance(x, str) else x)"
   ]
  },
  {
   "cell_type": "code",
   "execution_count": 12,
   "id": "487be089",
   "metadata": {},
   "outputs": [],
   "source": [
    "df[['Title', 'Institution', 'Type', 'Level', 'Duration', 'Description', 'Rating', 'Category', 'Subcategory', 'Skills', 'Modules Name', 'Modules Description']].to_csv(\"data/courses_data.csv\", index=False, encoding=\"utf-8-sig\")"
   ]
  },
  {
   "cell_type": "code",
   "execution_count": 13,
   "id": "bed1a147",
   "metadata": {},
   "outputs": [],
   "source": [
    "df[\"Modules Name\"] = df[\"Modules Name\"].apply(ast.literal_eval)\n",
    "df[\"Modules Description\"] = df[\"Modules Description\"].apply(ast.literal_eval)\n",
    "\n",
    "with open(\"data/courses_data.json\", \"w\", encoding=\"utf-8-sig\") as f:\n",
    "    f.write(df.to_json(orient=\"records\", force_ascii=False))"
   ]
  },
  {
   "cell_type": "markdown",
   "id": "ab745330",
   "metadata": {},
   "source": [
    "## Tokenization"
   ]
  },
  {
   "cell_type": "code",
   "execution_count": 17,
   "id": "f39127f4",
   "metadata": {},
   "outputs": [],
   "source": [
    "nlp = spacy.load(\"en_core_web_trf\")\n",
    "\n",
    "generic_terms = {'final', 'assessment', 'submission', 'week', 'course', 'module', 'introduction', 'intro', 'chapter', 'phase', 'lesson', 'welcome', 'foundations'}\n",
    "\n",
    "def clean_text(text):\n",
    "    if pd.isna(text) or not isinstance(text, str) or not text.strip() or text.strip().lower() == 'no description':\n",
    "        return ''\n",
    "    \n",
    "    doc = nlp(text.lower())\n",
    "    \n",
    "    # Only keep meaningful tokens: no stopwords/punctuations/generic terms\n",
    "    tokens = [token.lemma_ for token in doc \n",
    "              if not token.is_stop and not token.is_punct and token.lemma_ not in generic_terms]\n",
    "    \n",
    "    return ' '.join(tokens)"
   ]
  },
  {
   "cell_type": "code",
   "execution_count": 21,
   "id": "0f6e6c31",
   "metadata": {},
   "outputs": [],
   "source": [
    "# Apply spaCy-based cleaning to the main course description\n",
    "df['Clean_Description'] = df['Description'].apply(clean_text)\n",
    "\n",
    "# Apply spaCy-based cleaning to each item in the list of module names\n",
    "df['Clean_Module_Name'] = df['Modules Name'].apply(\n",
    "    lambda lst: ' '.join([clean_text(item) for item in lst if isinstance(item, str)]) if isinstance(lst, list) else ''\n",
    ")\n",
    "\n",
    "# Apply spaCy-based cleaning to each item in the list of module description\n",
    "df['Clean_Module_Description'] = df['Modules Description'].apply(\n",
    "    lambda lst: ' '.join([clean_text(item) for item in lst if isinstance(item, str)]) if isinstance(lst, list) else ''\n",
    ")\n",
    "df['Token_Text'] = (\n",
    "    df['Clean_Description'].fillna('') + '. ' +\n",
    "    df['Clean_Module_Name'].fillna('') + '. ' +\n",
    "    df['Clean_Module_Description'].fillna('') + '. ' +\n",
    "    df['Skills'].fillna('')\n",
    ").str.lower().str.strip()"
   ]
  },
  {
   "cell_type": "markdown",
   "id": "2ffd989d",
   "metadata": {},
   "source": [
    "## Vectorization"
   ]
  },
  {
   "cell_type": "code",
   "execution_count": 23,
   "id": "4ccefef4",
   "metadata": {},
   "outputs": [],
   "source": [
    "model = SentenceTransformer('all-MiniLM-L6-v2')\n",
    "model.save('models/sentence_model')"
   ]
  },
  {
   "cell_type": "code",
   "execution_count": 24,
   "id": "e52f9dde",
   "metadata": {},
   "outputs": [
    {
     "name": "stderr",
     "output_type": "stream",
     "text": [
      "Batches: 100%|██████████| 105/105 [00:28<00:00,  3.62it/s]\n"
     ]
    }
   ],
   "source": [
    "embeddings = model.encode(df['Token_Text'].tolist(), show_progress_bar=True)\n",
    "with open('course_embeddings.pkl', 'wb') as f:\n",
    "    pickle.dump(embeddings, f)"
   ]
  }
 ],
 "metadata": {
  "kernelspec": {
   "display_name": "Python 3",
   "language": "python",
   "name": "python3"
  },
  "language_info": {
   "codemirror_mode": {
    "name": "ipython",
    "version": 3
   },
   "file_extension": ".py",
   "mimetype": "text/x-python",
   "name": "python",
   "nbconvert_exporter": "python",
   "pygments_lexer": "ipython3",
   "version": "3.13.1"
  }
 },
 "nbformat": 4,
 "nbformat_minor": 5
}
